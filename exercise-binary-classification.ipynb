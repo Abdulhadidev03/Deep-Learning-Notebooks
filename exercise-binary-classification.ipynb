{
 "cells": [
  {
   "cell_type": "markdown",
   "id": "08009f39",
   "metadata": {
    "papermill": {
     "duration": 0.003434,
     "end_time": "2025-01-15T17:15:21.802125",
     "exception": false,
     "start_time": "2025-01-15T17:15:21.798691",
     "status": "completed"
    },
    "tags": []
   },
   "source": [
    "**This notebook is an exercise in the [Intro to Deep Learning](https://www.kaggle.com/learn/intro-to-deep-learning) course.  You can reference the tutorial at [this link](https://www.kaggle.com/ryanholbrook/binary-classification).**\n",
    "\n",
    "---\n"
   ]
  },
  {
   "cell_type": "markdown",
   "id": "b696f5aa",
   "metadata": {
    "papermill": {
     "duration": 0.002695,
     "end_time": "2025-01-15T17:15:21.807827",
     "exception": false,
     "start_time": "2025-01-15T17:15:21.805132",
     "status": "completed"
    },
    "tags": []
   },
   "source": [
    "# Introduction #\n",
    "\n",
    "In this exercise, you'll build a model to predict hotel cancellations with a binary classifier."
   ]
  },
  {
   "cell_type": "code",
   "execution_count": 1,
   "id": "2d4047fc",
   "metadata": {
    "execution": {
     "iopub.execute_input": "2025-01-15T17:15:21.815055Z",
     "iopub.status.busy": "2025-01-15T17:15:21.814765Z",
     "iopub.status.idle": "2025-01-15T17:15:22.657417Z",
     "shell.execute_reply": "2025-01-15T17:15:22.656720Z"
    },
    "lines_to_next_cell": 0,
    "papermill": {
     "duration": 0.848807,
     "end_time": "2025-01-15T17:15:22.659392",
     "exception": false,
     "start_time": "2025-01-15T17:15:21.810585",
     "status": "completed"
    },
    "tags": []
   },
   "outputs": [
    {
     "name": "stderr",
     "output_type": "stream",
     "text": [
      "/tmp/ipykernel_26/3338970720.py:3: MatplotlibDeprecationWarning: The seaborn styles shipped by Matplotlib are deprecated since 3.6, as they no longer correspond to the styles shipped by seaborn. However, they will remain available as 'seaborn-v0_8-<style>'. Alternatively, directly use the seaborn API instead.\n",
      "  plt.style.use('seaborn-whitegrid')\n"
     ]
    }
   ],
   "source": [
    "# Setup plotting\n",
    "import matplotlib.pyplot as plt\n",
    "plt.style.use('seaborn-whitegrid')\n",
    "# Set Matplotlib defaults\n",
    "plt.rc('figure', autolayout=True)\n",
    "plt.rc('axes', labelweight='bold', labelsize='large',\n",
    "       titleweight='bold', titlesize=18, titlepad=10)\n",
    "plt.rc('animation', html='html5')\n",
    "\n",
    "# Setup feedback system\n",
    "from learntools.core import binder\n",
    "binder.bind(globals())\n",
    "from learntools.deep_learning_intro.ex6 import *"
   ]
  },
  {
   "cell_type": "markdown",
   "id": "e241d66e",
   "metadata": {
    "papermill": {
     "duration": 0.002809,
     "end_time": "2025-01-15T17:15:22.665375",
     "exception": false,
     "start_time": "2025-01-15T17:15:22.662566",
     "status": "completed"
    },
    "tags": []
   },
   "source": [
    "First, load the *Hotel Cancellations* dataset."
   ]
  },
  {
   "cell_type": "code",
   "execution_count": 2,
   "id": "6dbc64ae",
   "metadata": {
    "execution": {
     "iopub.execute_input": "2025-01-15T17:15:22.672285Z",
     "iopub.status.busy": "2025-01-15T17:15:22.671594Z",
     "iopub.status.idle": "2025-01-15T17:15:25.076393Z",
     "shell.execute_reply": "2025-01-15T17:15:25.075632Z"
    },
    "lines_to_next_cell": 2,
    "papermill": {
     "duration": 2.410342,
     "end_time": "2025-01-15T17:15:25.078368",
     "exception": false,
     "start_time": "2025-01-15T17:15:22.668026",
     "status": "completed"
    },
    "tags": []
   },
   "outputs": [],
   "source": [
    "import pandas as pd\n",
    "\n",
    "from sklearn.model_selection import train_test_split\n",
    "from sklearn.preprocessing import StandardScaler, OneHotEncoder\n",
    "from sklearn.impute import SimpleImputer\n",
    "from sklearn.pipeline import make_pipeline\n",
    "from sklearn.compose import make_column_transformer\n",
    "\n",
    "hotel = pd.read_csv('../input/dl-course-data/hotel.csv')\n",
    "\n",
    "X = hotel.copy()\n",
    "y = X.pop('is_canceled')\n",
    "\n",
    "X['arrival_date_month'] = \\\n",
    "    X['arrival_date_month'].map(\n",
    "        {'January':1, 'February': 2, 'March':3,\n",
    "         'April':4, 'May':5, 'June':6, 'July':7,\n",
    "         'August':8, 'September':9, 'October':10,\n",
    "         'November':11, 'December':12}\n",
    "    )\n",
    "\n",
    "features_num = [\n",
    "    \"lead_time\", \"arrival_date_week_number\",\n",
    "    \"arrival_date_day_of_month\", \"stays_in_weekend_nights\",\n",
    "    \"stays_in_week_nights\", \"adults\", \"children\", \"babies\",\n",
    "    \"is_repeated_guest\", \"previous_cancellations\",\n",
    "    \"previous_bookings_not_canceled\", \"required_car_parking_spaces\",\n",
    "    \"total_of_special_requests\", \"adr\",\n",
    "]\n",
    "features_cat = [\n",
    "    \"hotel\", \"arrival_date_month\", \"meal\",\n",
    "    \"market_segment\", \"distribution_channel\",\n",
    "    \"reserved_room_type\", \"deposit_type\", \"customer_type\",\n",
    "]\n",
    "\n",
    "transformer_num = make_pipeline(\n",
    "    SimpleImputer(strategy=\"constant\"), # there are a few missing values\n",
    "    StandardScaler(),\n",
    ")\n",
    "transformer_cat = make_pipeline(\n",
    "    SimpleImputer(strategy=\"constant\", fill_value=\"NA\"),\n",
    "    OneHotEncoder(handle_unknown='ignore'),\n",
    ")\n",
    "\n",
    "preprocessor = make_column_transformer(\n",
    "    (transformer_num, features_num),\n",
    "    (transformer_cat, features_cat),\n",
    ")\n",
    "\n",
    "# stratify - make sure classes are evenlly represented across splits\n",
    "X_train, X_valid, y_train, y_valid = \\\n",
    "    train_test_split(X, y, stratify=y, train_size=0.75)\n",
    "\n",
    "X_train = preprocessor.fit_transform(X_train)\n",
    "X_valid = preprocessor.transform(X_valid)\n",
    "\n",
    "input_shape = [X_train.shape[1]]"
   ]
  },
  {
   "cell_type": "markdown",
   "id": "b35f4dec",
   "metadata": {
    "papermill": {
     "duration": 0.002876,
     "end_time": "2025-01-15T17:15:25.084777",
     "exception": false,
     "start_time": "2025-01-15T17:15:25.081901",
     "status": "completed"
    },
    "tags": []
   },
   "source": [
    "# 1) Define Model #\n",
    "\n",
    "The model we'll use this time will have both batch normalization and dropout layers. To ease reading we've broken the diagram into blocks, but you can define it layer by layer as usual.\n",
    "\n",
    "Define a model with an architecture given by this diagram:\n",
    "\n",
    "<figure style=\"padding: 1em;\">\n",
    "<img src=\"https://storage.googleapis.com/kaggle-media/learn/images/V04o59Z.png\" width=\"400\" alt=\"Diagram of network architecture: BatchNorm, Dense, BatchNorm, Dropout, Dense, BatchNorm, Dropout, Dense.\">\n",
    "<figcaption style=\"textalign: center; font-style: italic\"><center>Diagram of a binary classifier.</center></figcaption>\n",
    "</figure>\n"
   ]
  },
  {
   "cell_type": "code",
   "execution_count": 3,
   "id": "c391e9c2",
   "metadata": {
    "execution": {
     "iopub.execute_input": "2025-01-15T17:15:25.091835Z",
     "iopub.status.busy": "2025-01-15T17:15:25.091513Z",
     "iopub.status.idle": "2025-01-15T17:15:38.687962Z",
     "shell.execute_reply": "2025-01-15T17:15:38.687097Z"
    },
    "lines_to_next_cell": 2,
    "papermill": {
     "duration": 13.602234,
     "end_time": "2025-01-15T17:15:38.689975",
     "exception": false,
     "start_time": "2025-01-15T17:15:25.087741",
     "status": "completed"
    },
    "tags": []
   },
   "outputs": [
    {
     "name": "stderr",
     "output_type": "stream",
     "text": [
      "2025-01-15 17:15:27.056877: E external/local_xla/xla/stream_executor/cuda/cuda_dnn.cc:9261] Unable to register cuDNN factory: Attempting to register factory for plugin cuDNN when one has already been registered\n",
      "2025-01-15 17:15:27.057002: E external/local_xla/xla/stream_executor/cuda/cuda_fft.cc:607] Unable to register cuFFT factory: Attempting to register factory for plugin cuFFT when one has already been registered\n",
      "2025-01-15 17:15:27.201774: E external/local_xla/xla/stream_executor/cuda/cuda_blas.cc:1515] Unable to register cuBLAS factory: Attempting to register factory for plugin cuBLAS when one has already been registered\n"
     ]
    },
    {
     "data": {
      "application/javascript": [
       "parent.postMessage({\"jupyterEvent\": \"custom.exercise_interaction\", \"data\": {\"outcomeType\": 1, \"valueTowardsCompletion\": 0.3333333333333333, \"interactionType\": 1, \"questionType\": 2, \"questionId\": \"1_Q1\", \"learnToolsVersion\": \"0.3.4\", \"failureMessage\": \"\", \"exceptionClass\": \"\", \"trace\": \"\"}}, \"*\")"
      ],
      "text/plain": [
       "<IPython.core.display.Javascript object>"
      ]
     },
     "metadata": {},
     "output_type": "display_data"
    },
    {
     "data": {
      "text/markdown": [
       "<span style=\"color:#33cc33\">Correct</span>"
      ],
      "text/plain": [
       "Correct"
      ]
     },
     "metadata": {},
     "output_type": "display_data"
    }
   ],
   "source": [
    "from tensorflow import keras\n",
    "from tensorflow.keras import layers\n",
    "\n",
    "# YOUR CODE HERE: define the model given in the diagram\n",
    "model = keras.Sequential([\n",
    "    layers.BatchNormalization(input_shape=input_shape),\n",
    "    layers.Dense(256 , activation=\"relu\"),\n",
    "    layers.BatchNormalization(),\n",
    "    layers.Dropout(0.3),\n",
    "    layers.Dense(256 , activation=\"relu\"),\n",
    "    layers.BatchNormalization(),\n",
    "    layers.Dropout(0.3),\n",
    "    layers.Dense(1,activation=\"sigmoid\")\n",
    "])\n",
    "\n",
    "# Check your answer\n",
    "q_1.check()"
   ]
  },
  {
   "cell_type": "markdown",
   "id": "30e04ade",
   "metadata": {
    "papermill": {
     "duration": 0.003063,
     "end_time": "2025-01-15T17:15:38.696363",
     "exception": false,
     "start_time": "2025-01-15T17:15:38.693300",
     "status": "completed"
    },
    "tags": []
   },
   "source": [
    "# 2) Add Optimizer, Loss, and Metric #\n",
    "\n",
    "Now compile the model with the Adam optimizer and binary versions of the cross-entropy loss and accuracy metric."
   ]
  },
  {
   "cell_type": "code",
   "execution_count": 4,
   "id": "6bd8de29",
   "metadata": {
    "execution": {
     "iopub.execute_input": "2025-01-15T17:15:38.703813Z",
     "iopub.status.busy": "2025-01-15T17:15:38.703502Z",
     "iopub.status.idle": "2025-01-15T17:15:38.723792Z",
     "shell.execute_reply": "2025-01-15T17:15:38.722969Z"
    },
    "lines_to_next_cell": 0,
    "papermill": {
     "duration": 0.025935,
     "end_time": "2025-01-15T17:15:38.725532",
     "exception": false,
     "start_time": "2025-01-15T17:15:38.699597",
     "status": "completed"
    },
    "tags": []
   },
   "outputs": [
    {
     "data": {
      "application/javascript": [
       "parent.postMessage({\"jupyterEvent\": \"custom.exercise_interaction\", \"data\": {\"outcomeType\": 1, \"valueTowardsCompletion\": 0.3333333333333333, \"interactionType\": 1, \"questionType\": 2, \"questionId\": \"2_Q2\", \"learnToolsVersion\": \"0.3.4\", \"failureMessage\": \"\", \"exceptionClass\": \"\", \"trace\": \"\"}}, \"*\")"
      ],
      "text/plain": [
       "<IPython.core.display.Javascript object>"
      ]
     },
     "metadata": {},
     "output_type": "display_data"
    },
    {
     "data": {
      "text/markdown": [
       "<span style=\"color:#33cc33\">Correct</span>"
      ],
      "text/plain": [
       "Correct"
      ]
     },
     "metadata": {},
     "output_type": "display_data"
    }
   ],
   "source": [
    "# YOUR CODE HERE\n",
    "\n",
    "model.compile(\n",
    "    optimizer=\"adam\",\n",
    "    loss=\"binary_crossentropy\",\n",
    "    metrics=[\"binary_accuracy\"]\n",
    ")\n",
    "\n",
    "# Check your answer\n",
    "q_2.check()"
   ]
  },
  {
   "cell_type": "code",
   "execution_count": 5,
   "id": "28c4bc9b",
   "metadata": {
    "execution": {
     "iopub.execute_input": "2025-01-15T17:15:38.733206Z",
     "iopub.status.busy": "2025-01-15T17:15:38.732706Z",
     "iopub.status.idle": "2025-01-15T17:15:38.736186Z",
     "shell.execute_reply": "2025-01-15T17:15:38.735394Z"
    },
    "lines_to_next_cell": 0,
    "papermill": {
     "duration": 0.009272,
     "end_time": "2025-01-15T17:15:38.737908",
     "exception": false,
     "start_time": "2025-01-15T17:15:38.728636",
     "status": "completed"
    },
    "tags": []
   },
   "outputs": [],
   "source": [
    "# Lines below will give you a hint or solution code\n",
    "#q_2.hint()\n",
    "#q_2.solution()"
   ]
  },
  {
   "cell_type": "markdown",
   "id": "334300c7",
   "metadata": {
    "papermill": {
     "duration": 0.003323,
     "end_time": "2025-01-15T17:15:38.744499",
     "exception": false,
     "start_time": "2025-01-15T17:15:38.741176",
     "status": "completed"
    },
    "tags": []
   },
   "source": [
    "Finally, run this cell to train the model and view the learning curves. It may run for around 60 to 70 epochs, which could take a minute or two."
   ]
  },
  {
   "cell_type": "code",
   "execution_count": 6,
   "id": "81ab46b2",
   "metadata": {
    "execution": {
     "iopub.execute_input": "2025-01-15T17:15:38.752174Z",
     "iopub.status.busy": "2025-01-15T17:15:38.751958Z",
     "iopub.status.idle": "2025-01-15T17:16:13.802619Z",
     "shell.execute_reply": "2025-01-15T17:16:13.801507Z"
    },
    "papermill": {
     "duration": 35.0566,
     "end_time": "2025-01-15T17:16:13.804501",
     "exception": false,
     "start_time": "2025-01-15T17:15:38.747901",
     "status": "completed"
    },
    "tags": []
   },
   "outputs": [
    {
     "name": "stdout",
     "output_type": "stream",
     "text": [
      "Epoch 1/200\n"
     ]
    },
    {
     "name": "stderr",
     "output_type": "stream",
     "text": [
      "WARNING: All log messages before absl::InitializeLog() is called are written to STDERR\n",
      "I0000 00:00:1736961343.045626      67 device_compiler.h:186] Compiled cluster using XLA!  This line is logged at most once for the lifetime of the process.\n"
     ]
    },
    {
     "name": "stdout",
     "output_type": "stream",
     "text": [
      "175/175 [==============================] - 6s 7ms/step - loss: 0.4883 - binary_accuracy: 0.7691 - val_loss: 0.4314 - val_binary_accuracy: 0.8024\n",
      "Epoch 2/200\n",
      "175/175 [==============================] - 1s 6ms/step - loss: 0.4248 - binary_accuracy: 0.8010 - val_loss: 0.4044 - val_binary_accuracy: 0.8121\n",
      "Epoch 3/200\n",
      "175/175 [==============================] - 1s 6ms/step - loss: 0.4101 - binary_accuracy: 0.8083 - val_loss: 0.3960 - val_binary_accuracy: 0.8167\n",
      "Epoch 4/200\n",
      "175/175 [==============================] - 1s 6ms/step - loss: 0.4034 - binary_accuracy: 0.8107 - val_loss: 0.3927 - val_binary_accuracy: 0.8172\n",
      "Epoch 5/200\n",
      "175/175 [==============================] - 1s 5ms/step - loss: 0.3984 - binary_accuracy: 0.8134 - val_loss: 0.3892 - val_binary_accuracy: 0.8205\n",
      "Epoch 6/200\n",
      "175/175 [==============================] - 1s 5ms/step - loss: 0.3926 - binary_accuracy: 0.8165 - val_loss: 0.3845 - val_binary_accuracy: 0.8231\n",
      "Epoch 7/200\n",
      "175/175 [==============================] - 1s 5ms/step - loss: 0.3886 - binary_accuracy: 0.8194 - val_loss: 0.3820 - val_binary_accuracy: 0.8223\n",
      "Epoch 8/200\n",
      "175/175 [==============================] - 1s 6ms/step - loss: 0.3851 - binary_accuracy: 0.8201 - val_loss: 0.3798 - val_binary_accuracy: 0.8230\n",
      "Epoch 9/200\n",
      "175/175 [==============================] - 1s 5ms/step - loss: 0.3831 - binary_accuracy: 0.8219 - val_loss: 0.3791 - val_binary_accuracy: 0.8280\n",
      "Epoch 10/200\n",
      "175/175 [==============================] - 1s 5ms/step - loss: 0.3796 - binary_accuracy: 0.8250 - val_loss: 0.3743 - val_binary_accuracy: 0.8275\n",
      "Epoch 11/200\n",
      "175/175 [==============================] - 1s 5ms/step - loss: 0.3768 - binary_accuracy: 0.8254 - val_loss: 0.3804 - val_binary_accuracy: 0.8265\n",
      "Epoch 12/200\n",
      "175/175 [==============================] - 1s 6ms/step - loss: 0.3737 - binary_accuracy: 0.8272 - val_loss: 0.3724 - val_binary_accuracy: 0.8292\n",
      "Epoch 13/200\n",
      "175/175 [==============================] - 1s 5ms/step - loss: 0.3715 - binary_accuracy: 0.8278 - val_loss: 0.3718 - val_binary_accuracy: 0.8296\n",
      "Epoch 14/200\n",
      "175/175 [==============================] - 1s 5ms/step - loss: 0.3704 - binary_accuracy: 0.8286 - val_loss: 0.3711 - val_binary_accuracy: 0.8282\n",
      "Epoch 15/200\n",
      "175/175 [==============================] - 1s 5ms/step - loss: 0.3683 - binary_accuracy: 0.8294 - val_loss: 0.3651 - val_binary_accuracy: 0.8306\n",
      "Epoch 16/200\n",
      "175/175 [==============================] - 1s 5ms/step - loss: 0.3665 - binary_accuracy: 0.8303 - val_loss: 0.3656 - val_binary_accuracy: 0.8314\n",
      "Epoch 17/200\n",
      "175/175 [==============================] - 1s 5ms/step - loss: 0.3647 - binary_accuracy: 0.8316 - val_loss: 0.3627 - val_binary_accuracy: 0.8334\n",
      "Epoch 18/200\n",
      "175/175 [==============================] - 1s 5ms/step - loss: 0.3614 - binary_accuracy: 0.8333 - val_loss: 0.3620 - val_binary_accuracy: 0.8337\n",
      "Epoch 19/200\n",
      "175/175 [==============================] - 1s 6ms/step - loss: 0.3603 - binary_accuracy: 0.8328 - val_loss: 0.3636 - val_binary_accuracy: 0.8328\n",
      "Epoch 20/200\n",
      "175/175 [==============================] - 1s 5ms/step - loss: 0.3585 - binary_accuracy: 0.8330 - val_loss: 0.3604 - val_binary_accuracy: 0.8352\n",
      "Epoch 21/200\n",
      "175/175 [==============================] - 1s 5ms/step - loss: 0.3577 - binary_accuracy: 0.8354 - val_loss: 0.3602 - val_binary_accuracy: 0.8348\n",
      "Epoch 22/200\n",
      "175/175 [==============================] - 1s 5ms/step - loss: 0.3565 - binary_accuracy: 0.8359 - val_loss: 0.3594 - val_binary_accuracy: 0.8346\n",
      "Epoch 23/200\n",
      "175/175 [==============================] - 1s 6ms/step - loss: 0.3548 - binary_accuracy: 0.8365 - val_loss: 0.3592 - val_binary_accuracy: 0.8357\n",
      "Epoch 24/200\n",
      "175/175 [==============================] - 1s 6ms/step - loss: 0.3536 - binary_accuracy: 0.8372 - val_loss: 0.3574 - val_binary_accuracy: 0.8368\n",
      "Epoch 25/200\n",
      "175/175 [==============================] - 1s 6ms/step - loss: 0.3526 - binary_accuracy: 0.8374 - val_loss: 0.3555 - val_binary_accuracy: 0.8372\n",
      "Epoch 26/200\n",
      "175/175 [==============================] - 1s 5ms/step - loss: 0.3521 - binary_accuracy: 0.8376 - val_loss: 0.3567 - val_binary_accuracy: 0.8353\n",
      "Epoch 27/200\n",
      "175/175 [==============================] - 1s 5ms/step - loss: 0.3502 - binary_accuracy: 0.8384 - val_loss: 0.3598 - val_binary_accuracy: 0.8335\n",
      "Epoch 28/200\n",
      "175/175 [==============================] - 1s 5ms/step - loss: 0.3496 - binary_accuracy: 0.8387 - val_loss: 0.3556 - val_binary_accuracy: 0.8385\n",
      "Epoch 29/200\n",
      "175/175 [==============================] - 1s 5ms/step - loss: 0.3478 - binary_accuracy: 0.8395 - val_loss: 0.3595 - val_binary_accuracy: 0.8357\n",
      "Epoch 30/200\n",
      "175/175 [==============================] - 1s 5ms/step - loss: 0.3482 - binary_accuracy: 0.8392 - val_loss: 0.3560 - val_binary_accuracy: 0.8374\n"
     ]
    },
    {
     "data": {
      "text/plain": [
       "<Axes: title={'center': 'Accuracy'}>"
      ]
     },
     "execution_count": 6,
     "metadata": {},
     "output_type": "execute_result"
    },
    {
     "data": {
      "image/png": "[encoded data removed]",
      "text/plain": [
       "<Figure size 640x480 with 1 Axes>"
      ]
     },
     "metadata": {},
     "output_type": "display_data"
    },
    {
     "data": {
      "image/png": "[encoded data removed]",
      "text/plain": [
       "<Figure size 640x480 with 1 Axes>"
      ]
     },
     "metadata": {},
     "output_type": "display_data"
    }
   ],
   "source": [
    "early_stopping = keras.callbacks.EarlyStopping(\n",
    "    patience=5,\n",
    "    min_delta=0.001,\n",
    "    restore_best_weights=True,\n",
    ")\n",
    "history = model.fit(\n",
    "    X_train, y_train,\n",
    "    validation_data=(X_valid, y_valid),\n",
    "    batch_size=512,\n",
    "    epochs=200,\n",
    "    callbacks=[early_stopping],\n",
    ")\n",
    "\n",
    "history_df = pd.DataFrame(history.history)\n",
    "history_df.loc[:, ['loss', 'val_loss']].plot(title=\"Cross-entropy\")\n",
    "history_df.loc[:, ['binary_accuracy', 'val_binary_accuracy']].plot(title=\"Accuracy\")"
   ]
  },
  {
   "cell_type": "markdown",
   "id": "2546ac6a",
   "metadata": {
    "papermill": {
     "duration": 0.031205,
     "end_time": "2025-01-15T17:16:13.865028",
     "exception": false,
     "start_time": "2025-01-15T17:16:13.833823",
     "status": "completed"
    },
    "tags": []
   },
   "source": [
    "# 3) Train and Evaluate #\n",
    "\n",
    "\n",
    "What do you think about the learning curves? Does it look like the model underfit or overfit? Was the cross-entropy loss a good stand-in for accuracy?"
   ]
  },
  {
   "cell_type": "code",
   "execution_count": 7,
   "id": "fba5beda",
   "metadata": {
    "execution": {
     "iopub.execute_input": "2025-01-15T17:16:13.925816Z",
     "iopub.status.busy": "2025-01-15T17:16:13.925493Z",
     "iopub.status.idle": "2025-01-15T17:16:13.932560Z",
     "shell.execute_reply": "2025-01-15T17:16:13.931722Z"
    },
    "papermill": {
     "duration": 0.039406,
     "end_time": "2025-01-15T17:16:13.934351",
     "exception": false,
     "start_time": "2025-01-15T17:16:13.894945",
     "status": "completed"
    },
    "tags": []
   },
   "outputs": [
    {
     "data": {
      "application/javascript": [
       "parent.postMessage({\"jupyterEvent\": \"custom.exercise_interaction\", \"data\": {\"outcomeType\": 1, \"valueTowardsCompletion\": 0.3333333333333333, \"interactionType\": 1, \"questionType\": 4, \"questionId\": \"3_Q3\", \"learnToolsVersion\": \"0.3.4\", \"failureMessage\": \"\", \"exceptionClass\": \"\", \"trace\": \"\"}}, \"*\")"
      ],
      "text/plain": [
       "<IPython.core.display.Javascript object>"
      ]
     },
     "metadata": {},
     "output_type": "display_data"
    },
    {
     "data": {
      "text/markdown": [
       "<span style=\"color:#33cc33\">Correct:</span> \n",
       "\n",
       "Though we can see the training loss continuing to fall, the early stopping callback prevented any overfitting. Moreover, the accuracy rose at the same rate as the cross-entropy fell, so it appears that minimizing cross-entropy was a good stand-in. All in all, it looks like this training was a success!"
      ],
      "text/plain": [
       "Correct: \n",
       "\n",
       "Though we can see the training loss continuing to fall, the early stopping callback prevented any overfitting. Moreover, the accuracy rose at the same rate as the cross-entropy fell, so it appears that minimizing cross-entropy was a good stand-in. All in all, it looks like this training was a success!"
      ]
     },
     "metadata": {},
     "output_type": "display_data"
    }
   ],
   "source": [
    "# View the solution (Run this cell to receive credit!)\n",
    "q_3.check()"
   ]
  },
  {
   "cell_type": "markdown",
   "id": "eb602285",
   "metadata": {
    "papermill": {
     "duration": 0.029385,
     "end_time": "2025-01-15T17:16:13.993278",
     "exception": false,
     "start_time": "2025-01-15T17:16:13.963893",
     "status": "completed"
    },
    "tags": []
   },
   "source": [
    "# Conclusion #\n",
    "\n",
    "Congratulations! You've completed Kaggle's *Introduction to Deep Learning* course!\n",
    "\n",
    "With your new skills you're ready to take on more advanced applications like computer vision and sentiment classification. What would you like to do next?\n",
    "\n",
    "Why not try one of our *Getting Started* competitions?\n",
    "\n",
    "- Classify images with TPUs in [**Petals to the Metal**](https://www.kaggle.com/c/tpu-getting-started)\n",
    "- Create art with GANs in [**I'm Something of a Painter Myself**](https://www.kaggle.com/c/gan-getting-started)\n",
    "- Classify Tweets in [**Real or Not? NLP with Disaster Tweets**](https://www.kaggle.com/c/nlp-getting-started)\n",
    "- Detect contradiction and entailment in [**Contradictory, My Dear Watson**](https://www.kaggle.com/c/contradictory-my-dear-watson)\n",
    "\n",
    "Until next time, Kagglers!"
   ]
  },
  {
   "cell_type": "markdown",
   "id": "d18cbcad",
   "metadata": {
    "papermill": {
     "duration": 0.029986,
     "end_time": "2025-01-15T17:16:14.052140",
     "exception": false,
     "start_time": "2025-01-15T17:16:14.022154",
     "status": "completed"
    },
    "tags": []
   },
   "source": [
    "---\n",
    "\n",
    "\n",
    "\n",
    "\n",
    "*Have questions or comments? Visit the [course discussion forum](https://www.kaggle.com/learn/intro-to-deep-learning/discussion) to chat with other learners.*"
   ]
  }
 ],
 "metadata": {
  "jupytext": {
   "cell_metadata_filter": "-all",
   "formats": "ipynb"
  },
  "kaggle": {
   "accelerator": "gpu",
   "dataSources": [
    {
     "datasetId": 829369,
     "sourceId": 1480608,
     "sourceType": "datasetVersion"
    }
   ],
   "dockerImageVersionId": 30648,
   "isGpuEnabled": true,
   "isInternetEnabled": false,
   "language": "python",
   "sourceType": "notebook"
  },
  "kernelspec": {
   "display_name": "Python 3",
   "language": "python",
   "name": "python3"
  },
  "language_info": {
   "codemirror_mode": {
    "name": "ipython",
    "version": 3
   },
   "file_extension": ".py",
   "mimetype": "text/x-python",
   "name": "python",
   "nbconvert_exporter": "python",
   "pygments_lexer": "ipython3",
   "version": "3.10.13"
  },
  "papermill": {
   "default_parameters": {},
   "duration": 57.175558,
   "end_time": "2025-01-15T17:16:16.332615",
   "environment_variables": {},
   "exception": null,
   "input_path": "__notebook__.ipynb",
   "output_path": "__notebook__.ipynb",
   "parameters": {},
   "start_time": "2025-01-15T17:15:19.157057",
   "version": "2.5.0"
  }
 },
 "nbformat": 4,
 "nbformat_minor": 5
}
