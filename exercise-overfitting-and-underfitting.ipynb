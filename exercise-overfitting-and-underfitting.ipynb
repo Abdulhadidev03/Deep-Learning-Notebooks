{
 "cells": [
  {
   "cell_type": "markdown",
   "id": "eea65b8f",
   "metadata": {
    "papermill": {
     "duration": 0.004087,
     "end_time": "2025-01-14T18:51:43.658793",
     "exception": false,
     "start_time": "2025-01-14T18:51:43.654706",
     "status": "completed"
    },
    "tags": []
   },
   "source": [
    "**This notebook is an exercise in the [Intro to Deep Learning](https://www.kaggle.com/learn/intro-to-deep-learning) course.  You can reference the tutorial at [this link](https://www.kaggle.com/ryanholbrook/overfitting-and-underfitting).**\n",
    "\n",
    "---\n"
   ]
  },
  {
   "cell_type": "markdown",
   "id": "6ee83f48",
   "metadata": {
    "papermill": {
     "duration": 0.00332,
     "end_time": "2025-01-14T18:51:43.665675",
     "exception": false,
     "start_time": "2025-01-14T18:51:43.662355",
     "status": "completed"
    },
    "tags": []
   },
   "source": [
    "# Introduction #\n",
    "\n",
    "In this exercise, you’ll learn how to improve training outcomes by including an early stopping callback to prevent overfitting.\n",
    "\n",
    "When you're ready, run this next cell to set everything up!"
   ]
  },
  {
   "cell_type": "code",
   "execution_count": 1,
   "id": "e9140a5d",
   "metadata": {
    "execution": {
     "iopub.execute_input": "2025-01-14T18:51:43.673564Z",
     "iopub.status.busy": "2025-01-14T18:51:43.673328Z",
     "iopub.status.idle": "2025-01-14T18:51:44.355267Z",
     "shell.execute_reply": "2025-01-14T18:51:44.354389Z"
    },
    "papermill": {
     "duration": 0.688216,
     "end_time": "2025-01-14T18:51:44.357371",
     "exception": false,
     "start_time": "2025-01-14T18:51:43.669155",
     "status": "completed"
    },
    "tags": []
   },
   "outputs": [
    {
     "name": "stderr",
     "output_type": "stream",
     "text": [
      "/tmp/ipykernel_26/1500229236.py:3: MatplotlibDeprecationWarning: The seaborn styles shipped by Matplotlib are deprecated since 3.6, as they no longer correspond to the styles shipped by seaborn. However, they will remain available as 'seaborn-v0_8-<style>'. Alternatively, directly use the seaborn API instead.\n",
      "  plt.style.use('seaborn-whitegrid')\n"
     ]
    }
   ],
   "source": [
    "# Setup plotting\n",
    "import matplotlib.pyplot as plt\n",
    "plt.style.use('seaborn-whitegrid')\n",
    "# Set Matplotlib defaults\n",
    "plt.rc('figure', autolayout=True)\n",
    "plt.rc('axes', labelweight='bold', labelsize='large',\n",
    "       titleweight='bold', titlesize=18, titlepad=10)\n",
    "plt.rc('animation', html='html5')\n",
    "\n",
    "# Setup feedback system\n",
    "from learntools.core import binder\n",
    "binder.bind(globals())\n",
    "from learntools.deep_learning_intro.ex4 import *"
   ]
  },
  {
   "cell_type": "markdown",
   "id": "4c5d6e4a",
   "metadata": {
    "papermill": {
     "duration": 0.003652,
     "end_time": "2025-01-14T18:51:44.365128",
     "exception": false,
     "start_time": "2025-01-14T18:51:44.361476",
     "status": "completed"
    },
    "tags": []
   },
   "source": [
    "First load the *Spotify* dataset. Your task will be to predict the popularity of a song based on various audio features, like `'tempo'`, `'danceability'`, and `'mode'`."
   ]
  },
  {
   "cell_type": "code",
   "execution_count": 2,
   "id": "10e47b70",
   "metadata": {
    "execution": {
     "iopub.execute_input": "2025-01-14T18:51:44.373698Z",
     "iopub.status.busy": "2025-01-14T18:51:44.372946Z",
     "iopub.status.idle": "2025-01-14T18:51:57.059356Z",
     "shell.execute_reply": "2025-01-14T18:51:57.058438Z"
    },
    "papermill": {
     "duration": 12.6926,
     "end_time": "2025-01-14T18:51:57.061263",
     "exception": false,
     "start_time": "2025-01-14T18:51:44.368663",
     "status": "completed"
    },
    "tags": []
   },
   "outputs": [
    {
     "name": "stderr",
     "output_type": "stream",
     "text": [
      "2025-01-14 18:51:47.124973: E external/local_xla/xla/stream_executor/cuda/cuda_dnn.cc:9261] Unable to register cuDNN factory: Attempting to register factory for plugin cuDNN when one has already been registered\n",
      "2025-01-14 18:51:47.125082: E external/local_xla/xla/stream_executor/cuda/cuda_fft.cc:607] Unable to register cuFFT factory: Attempting to register factory for plugin cuFFT when one has already been registered\n",
      "2025-01-14 18:51:47.257709: E external/local_xla/xla/stream_executor/cuda/cuda_blas.cc:1515] Unable to register cuBLAS factory: Attempting to register factory for plugin cuBLAS when one has already been registered\n"
     ]
    },
    {
     "name": "stdout",
     "output_type": "stream",
     "text": [
      "Input shape: [18]\n"
     ]
    }
   ],
   "source": [
    "import pandas as pd\n",
    "from sklearn.preprocessing import StandardScaler, OneHotEncoder\n",
    "from sklearn.compose import make_column_transformer\n",
    "from sklearn.model_selection import GroupShuffleSplit\n",
    "\n",
    "from tensorflow import keras\n",
    "from tensorflow.keras import layers\n",
    "from tensorflow.keras import callbacks\n",
    "\n",
    "spotify = pd.read_csv('../input/dl-course-data/spotify.csv')\n",
    "\n",
    "X = spotify.copy().dropna()\n",
    "y = X.pop('track_popularity')\n",
    "artists = X['track_artist']\n",
    "\n",
    "features_num = ['danceability', 'energy', 'key', 'loudness', 'mode',\n",
    "                'speechiness', 'acousticness', 'instrumentalness',\n",
    "                'liveness', 'valence', 'tempo', 'duration_ms']\n",
    "features_cat = ['playlist_genre']\n",
    "\n",
    "preprocessor = make_column_transformer(\n",
    "    (StandardScaler(), features_num),\n",
    "    (OneHotEncoder(), features_cat),\n",
    ")\n",
    "\n",
    "# We'll do a \"grouped\" split to keep all of an artist's songs in one\n",
    "# split or the other. This is to help prevent signal leakage.\n",
    "def group_split(X, y, group, train_size=0.75):\n",
    "    splitter = GroupShuffleSplit(train_size=train_size)\n",
    "    train, test = next(splitter.split(X, y, groups=group))\n",
    "    return (X.iloc[train], X.iloc[test], y.iloc[train], y.iloc[test])\n",
    "\n",
    "X_train, X_valid, y_train, y_valid = group_split(X, y, artists)\n",
    "\n",
    "X_train = preprocessor.fit_transform(X_train)\n",
    "X_valid = preprocessor.transform(X_valid)\n",
    "y_train = y_train / 100 # popularity is on a scale 0-100, so this rescales to 0-1.\n",
    "y_valid = y_valid / 100\n",
    "\n",
    "input_shape = [X_train.shape[1]]\n",
    "print(\"Input shape: {}\".format(input_shape))"
   ]
  },
  {
   "cell_type": "markdown",
   "id": "b58cd0d0",
   "metadata": {
    "papermill": {
     "duration": 0.00361,
     "end_time": "2025-01-14T18:51:57.068862",
     "exception": false,
     "start_time": "2025-01-14T18:51:57.065252",
     "status": "completed"
    },
    "tags": []
   },
   "source": [
    "Let's start with the simplest network, a linear model. This model has low capacity.\n",
    "\n",
    "Run this next cell without any changes to train a linear model on the *Spotify* dataset."
   ]
  },
  {
   "cell_type": "code",
   "execution_count": 3,
   "id": "4d89d54f",
   "metadata": {
    "execution": {
     "iopub.execute_input": "2025-01-14T18:51:57.077415Z",
     "iopub.status.busy": "2025-01-14T18:51:57.077158Z",
     "iopub.status.idle": "2025-01-14T18:52:05.710584Z",
     "shell.execute_reply": "2025-01-14T18:52:05.709772Z"
    },
    "lines_to_next_cell": 0,
    "papermill": {
     "duration": 8.639699,
     "end_time": "2025-01-14T18:52:05.712276",
     "exception": false,
     "start_time": "2025-01-14T18:51:57.072577",
     "status": "completed"
    },
    "tags": []
   },
   "outputs": [
    {
     "name": "stderr",
     "output_type": "stream",
     "text": [
      "WARNING: All log messages before absl::InitializeLog() is called are written to STDERR\n",
      "I0000 00:00:1736880718.991739      69 device_compiler.h:186] Compiled cluster using XLA!  This line is logged at most once for the lifetime of the process.\n"
     ]
    },
    {
     "name": "stdout",
     "output_type": "stream",
     "text": [
      "Minimum Validation Loss: 0.1926\n"
     ]
    },
    {
     "data": {
      "image/png": "[encoded data removed]",
      "text/plain": [
       "<Figure size 640x480 with 1 Axes>"
      ]
     },
     "metadata": {},
     "output_type": "display_data"
    }
   ],
   "source": [
    "model = keras.Sequential([\n",
    "    layers.Dense(1, input_shape=input_shape),\n",
    "])\n",
    "model.compile(\n",
    "    optimizer='adam',\n",
    "    loss='mae',\n",
    ")\n",
    "history = model.fit(\n",
    "    X_train, y_train,\n",
    "    validation_data=(X_valid, y_valid),\n",
    "    batch_size=512,\n",
    "    epochs=50,\n",
    "    verbose=0, # suppress output since we'll plot the curves\n",
    ")\n",
    "history_df = pd.DataFrame(history.history)\n",
    "history_df.loc[0:, ['loss', 'val_loss']].plot()\n",
    "print(\"Minimum Validation Loss: {:0.4f}\".format(history_df['val_loss'].min()));"
   ]
  },
  {
   "cell_type": "markdown",
   "id": "693323dc",
   "metadata": {
    "papermill": {
     "duration": 0.004055,
     "end_time": "2025-01-14T18:52:05.720709",
     "exception": false,
     "start_time": "2025-01-14T18:52:05.716654",
     "status": "completed"
    },
    "tags": []
   },
   "source": [
    "It's not uncommon for the curves to follow a \"hockey stick\" pattern like you see here. This makes the final part of training hard to see, so let's start at epoch 10 instead:"
   ]
  },
  {
   "cell_type": "code",
   "execution_count": 4,
   "id": "ffb2021b",
   "metadata": {
    "execution": {
     "iopub.execute_input": "2025-01-14T18:52:05.730160Z",
     "iopub.status.busy": "2025-01-14T18:52:05.729902Z",
     "iopub.status.idle": "2025-01-14T18:52:05.992697Z",
     "shell.execute_reply": "2025-01-14T18:52:05.991877Z"
    },
    "papermill": {
     "duration": 0.269601,
     "end_time": "2025-01-14T18:52:05.994470",
     "exception": false,
     "start_time": "2025-01-14T18:52:05.724869",
     "status": "completed"
    },
    "tags": []
   },
   "outputs": [
    {
     "name": "stdout",
     "output_type": "stream",
     "text": [
      "Minimum Validation Loss: 0.1926\n"
     ]
    },
    {
     "data": {
      "image/png": "[encoded data removed]",
      "text/plain": [
       "<Figure size 640x480 with 1 Axes>"
      ]
     },
     "metadata": {},
     "output_type": "display_data"
    }
   ],
   "source": [
    "# Start the plot at epoch 10\n",
    "history_df.loc[10:, ['loss', 'val_loss']].plot()\n",
    "print(\"Minimum Validation Loss: {:0.4f}\".format(history_df['val_loss'].min()));"
   ]
  },
  {
   "cell_type": "markdown",
   "id": "5d9cce80",
   "metadata": {
    "papermill": {
     "duration": 0.005342,
     "end_time": "2025-01-14T18:52:06.004622",
     "exception": false,
     "start_time": "2025-01-14T18:52:05.999280",
     "status": "completed"
    },
    "tags": []
   },
   "source": [
    "# 1) Evaluate Baseline\n",
    "\n",
    "What do you think? Would you say this model is underfitting, overfitting, just right?"
   ]
  },
  {
   "cell_type": "code",
   "execution_count": 5,
   "id": "feb0bb96",
   "metadata": {
    "execution": {
     "iopub.execute_input": "2025-01-14T18:52:06.014825Z",
     "iopub.status.busy": "2025-01-14T18:52:06.014518Z",
     "iopub.status.idle": "2025-01-14T18:52:06.020927Z",
     "shell.execute_reply": "2025-01-14T18:52:06.020104Z"
    },
    "papermill": {
     "duration": 0.013348,
     "end_time": "2025-01-14T18:52:06.022482",
     "exception": false,
     "start_time": "2025-01-14T18:52:06.009134",
     "status": "completed"
    },
    "tags": []
   },
   "outputs": [
    {
     "data": {
      "application/javascript": [
       "parent.postMessage({\"jupyterEvent\": \"custom.exercise_interaction\", \"data\": {\"outcomeType\": 1, \"valueTowardsCompletion\": 0.25, \"interactionType\": 1, \"questionType\": 4, \"questionId\": \"1_Q1\", \"learnToolsVersion\": \"0.3.4\", \"failureMessage\": \"\", \"exceptionClass\": \"\", \"trace\": \"\"}}, \"*\")"
      ],
      "text/plain": [
       "<IPython.core.display.Javascript object>"
      ]
     },
     "metadata": {},
     "output_type": "display_data"
    },
    {
     "data": {
      "text/markdown": [
       "<span style=\"color:#33cc33\">Correct:</span> \n",
       "\n",
       "The gap between these curves is quite small and the validation loss never increases, so it's more likely that the network is underfitting than overfitting. It would be worth experimenting with more capacity to see if that's the case."
      ],
      "text/plain": [
       "Correct: \n",
       "\n",
       "The gap between these curves is quite small and the validation loss never increases, so it's more likely that the network is underfitting than overfitting. It would be worth experimenting with more capacity to see if that's the case."
      ]
     },
     "metadata": {},
     "output_type": "display_data"
    }
   ],
   "source": [
    "# View the solution (Run this cell to receive credit!)\n",
    "q_1.check()"
   ]
  },
  {
   "cell_type": "markdown",
   "id": "cf36cf20",
   "metadata": {
    "papermill": {
     "duration": 0.004621,
     "end_time": "2025-01-14T18:52:06.032112",
     "exception": false,
     "start_time": "2025-01-14T18:52:06.027491",
     "status": "completed"
    },
    "tags": []
   },
   "source": [
    "Now let's add some capacity to our network. We'll add three hidden layers with 128 units each. Run the next cell to train the network and see the learning curves."
   ]
  },
  {
   "cell_type": "code",
   "execution_count": 6,
   "id": "b5f08cd9",
   "metadata": {
    "execution": {
     "iopub.execute_input": "2025-01-14T18:52:06.042518Z",
     "iopub.status.busy": "2025-01-14T18:52:06.042266Z",
     "iopub.status.idle": "2025-01-14T18:52:15.914713Z",
     "shell.execute_reply": "2025-01-14T18:52:15.913822Z"
    },
    "papermill": {
     "duration": 9.879685,
     "end_time": "2025-01-14T18:52:15.916517",
     "exception": false,
     "start_time": "2025-01-14T18:52:06.036832",
     "status": "completed"
    },
    "tags": []
   },
   "outputs": [
    {
     "name": "stdout",
     "output_type": "stream",
     "text": [
      "Epoch 1/50\n",
      "50/50 [==============================] - 1s 5ms/step - loss: 0.2283 - val_loss: 0.2033\n",
      "Epoch 2/50\n",
      "50/50 [==============================] - 0s 3ms/step - loss: 0.2035 - val_loss: 0.1981\n",
      "Epoch 3/50\n",
      "50/50 [==============================] - 0s 3ms/step - loss: 0.1984 - val_loss: 0.1975\n",
      "Epoch 4/50\n",
      "50/50 [==============================] - 0s 3ms/step - loss: 0.1977 - val_loss: 0.1944\n",
      "Epoch 5/50\n",
      "50/50 [==============================] - 0s 3ms/step - loss: 0.1945 - val_loss: 0.1939\n",
      "Epoch 6/50\n",
      "50/50 [==============================] - 0s 3ms/step - loss: 0.1925 - val_loss: 0.1930\n",
      "Epoch 7/50\n",
      "50/50 [==============================] - 0s 4ms/step - loss: 0.1922 - val_loss: 0.1934\n",
      "Epoch 8/50\n",
      "50/50 [==============================] - 0s 3ms/step - loss: 0.1900 - val_loss: 0.1941\n",
      "Epoch 9/50\n",
      "50/50 [==============================] - 0s 3ms/step - loss: 0.1915 - val_loss: 0.1967\n",
      "Epoch 10/50\n",
      "50/50 [==============================] - 0s 3ms/step - loss: 0.1917 - val_loss: 0.1923\n",
      "Epoch 11/50\n",
      "50/50 [==============================] - 0s 3ms/step - loss: 0.1884 - val_loss: 0.1930\n",
      "Epoch 12/50\n",
      "50/50 [==============================] - 0s 4ms/step - loss: 0.1889 - val_loss: 0.1923\n",
      "Epoch 13/50\n",
      "50/50 [==============================] - 0s 3ms/step - loss: 0.1874 - val_loss: 0.1929\n",
      "Epoch 14/50\n",
      "50/50 [==============================] - 0s 3ms/step - loss: 0.1877 - val_loss: 0.1941\n",
      "Epoch 15/50\n",
      "50/50 [==============================] - 0s 3ms/step - loss: 0.1873 - val_loss: 0.1923\n",
      "Epoch 16/50\n",
      "50/50 [==============================] - 0s 3ms/step - loss: 0.1862 - val_loss: 0.1927\n",
      "Epoch 17/50\n",
      "50/50 [==============================] - 0s 3ms/step - loss: 0.1864 - val_loss: 0.1926\n",
      "Epoch 18/50\n",
      "50/50 [==============================] - 0s 3ms/step - loss: 0.1850 - val_loss: 0.1932\n",
      "Epoch 19/50\n",
      "50/50 [==============================] - 0s 3ms/step - loss: 0.1855 - val_loss: 0.1941\n",
      "Epoch 20/50\n",
      "50/50 [==============================] - 0s 3ms/step - loss: 0.1847 - val_loss: 0.1964\n",
      "Epoch 21/50\n",
      "50/50 [==============================] - 0s 3ms/step - loss: 0.1852 - val_loss: 0.1928\n",
      "Epoch 22/50\n",
      "50/50 [==============================] - 0s 3ms/step - loss: 0.1835 - val_loss: 0.1938\n",
      "Epoch 23/50\n",
      "50/50 [==============================] - 0s 3ms/step - loss: 0.1836 - val_loss: 0.1938\n",
      "Epoch 24/50\n",
      "50/50 [==============================] - 0s 3ms/step - loss: 0.1839 - val_loss: 0.1943\n",
      "Epoch 25/50\n",
      "50/50 [==============================] - 0s 3ms/step - loss: 0.1826 - val_loss: 0.2024\n",
      "Epoch 26/50\n",
      "50/50 [==============================] - 0s 3ms/step - loss: 0.1889 - val_loss: 0.1920\n",
      "Epoch 27/50\n",
      "50/50 [==============================] - 0s 3ms/step - loss: 0.1824 - val_loss: 0.1932\n",
      "Epoch 28/50\n",
      "50/50 [==============================] - 0s 3ms/step - loss: 0.1827 - val_loss: 0.1943\n",
      "Epoch 29/50\n",
      "50/50 [==============================] - 0s 3ms/step - loss: 0.1815 - val_loss: 0.1935\n",
      "Epoch 30/50\n",
      "50/50 [==============================] - 0s 3ms/step - loss: 0.1808 - val_loss: 0.1945\n",
      "Epoch 31/50\n",
      "50/50 [==============================] - 0s 3ms/step - loss: 0.1814 - val_loss: 0.1923\n",
      "Epoch 32/50\n",
      "50/50 [==============================] - 0s 3ms/step - loss: 0.1804 - val_loss: 0.1930\n",
      "Epoch 33/50\n",
      "50/50 [==============================] - 0s 3ms/step - loss: 0.1813 - val_loss: 0.1959\n",
      "Epoch 34/50\n",
      "50/50 [==============================] - 0s 3ms/step - loss: 0.1822 - val_loss: 0.1938\n",
      "Epoch 35/50\n",
      "50/50 [==============================] - 0s 3ms/step - loss: 0.1796 - val_loss: 0.1933\n",
      "Epoch 36/50\n",
      "50/50 [==============================] - 0s 3ms/step - loss: 0.1780 - val_loss: 0.1943\n",
      "Epoch 37/50\n",
      "50/50 [==============================] - 0s 3ms/step - loss: 0.1785 - val_loss: 0.1930\n",
      "Epoch 38/50\n",
      "50/50 [==============================] - 0s 3ms/step - loss: 0.1802 - val_loss: 0.1937\n",
      "Epoch 39/50\n",
      "50/50 [==============================] - 0s 3ms/step - loss: 0.1776 - val_loss: 0.1938\n",
      "Epoch 40/50\n",
      "50/50 [==============================] - 0s 3ms/step - loss: 0.1773 - val_loss: 0.1964\n",
      "Epoch 41/50\n",
      "50/50 [==============================] - 0s 3ms/step - loss: 0.1793 - val_loss: 0.1952\n",
      "Epoch 42/50\n",
      "50/50 [==============================] - 0s 3ms/step - loss: 0.1790 - val_loss: 0.2036\n",
      "Epoch 43/50\n",
      "50/50 [==============================] - 0s 3ms/step - loss: 0.1848 - val_loss: 0.1955\n",
      "Epoch 44/50\n",
      "50/50 [==============================] - 0s 3ms/step - loss: 0.1785 - val_loss: 0.1945\n",
      "Epoch 45/50\n",
      "50/50 [==============================] - 0s 3ms/step - loss: 0.1760 - val_loss: 0.1948\n",
      "Epoch 46/50\n",
      "50/50 [==============================] - 0s 3ms/step - loss: 0.1771 - val_loss: 0.1952\n",
      "Epoch 47/50\n",
      "50/50 [==============================] - 0s 3ms/step - loss: 0.1770 - val_loss: 0.1949\n",
      "Epoch 48/50\n",
      "50/50 [==============================] - 0s 3ms/step - loss: 0.1760 - val_loss: 0.1987\n",
      "Epoch 49/50\n",
      "50/50 [==============================] - 0s 3ms/step - loss: 0.1789 - val_loss: 0.1997\n",
      "Epoch 50/50\n",
      "50/50 [==============================] - 0s 3ms/step - loss: 0.1795 - val_loss: 0.1942\n",
      "Minimum Validation Loss: 0.1920\n"
     ]
    },
    {
     "data": {
      "image/png": "[encoded data removed]",
      "text/plain": [
       "<Figure size 640x480 with 1 Axes>"
      ]
     },
     "metadata": {},
     "output_type": "display_data"
    }
   ],
   "source": [
    "model = keras.Sequential([\n",
    "    layers.Dense(128, activation='relu', input_shape=input_shape),\n",
    "    layers.Dense(64, activation='relu'),\n",
    "    layers.Dense(1)\n",
    "])\n",
    "model.compile(\n",
    "    optimizer='adam',\n",
    "    loss='mae',\n",
    ")\n",
    "history = model.fit(\n",
    "    X_train, y_train,\n",
    "    validation_data=(X_valid, y_valid),\n",
    "    batch_size=512,\n",
    "    epochs=50,\n",
    ")\n",
    "history_df = pd.DataFrame(history.history)\n",
    "history_df.loc[:, ['loss', 'val_loss']].plot()\n",
    "print(\"Minimum Validation Loss: {:0.4f}\".format(history_df['val_loss'].min()));"
   ]
  },
  {
   "cell_type": "markdown",
   "id": "5de48572",
   "metadata": {
    "papermill": {
     "duration": 0.015856,
     "end_time": "2025-01-14T18:52:15.948971",
     "exception": false,
     "start_time": "2025-01-14T18:52:15.933115",
     "status": "completed"
    },
    "tags": []
   },
   "source": [
    "# 2) Add Capacity\n",
    "\n",
    "What is your evaluation of these curves? Underfitting, overfitting, just right?"
   ]
  },
  {
   "cell_type": "code",
   "execution_count": 7,
   "id": "bacc5873",
   "metadata": {
    "execution": {
     "iopub.execute_input": "2025-01-14T18:52:15.981733Z",
     "iopub.status.busy": "2025-01-14T18:52:15.981424Z",
     "iopub.status.idle": "2025-01-14T18:52:15.987764Z",
     "shell.execute_reply": "2025-01-14T18:52:15.986997Z"
    },
    "papermill": {
     "duration": 0.024622,
     "end_time": "2025-01-14T18:52:15.989353",
     "exception": false,
     "start_time": "2025-01-14T18:52:15.964731",
     "status": "completed"
    },
    "tags": []
   },
   "outputs": [
    {
     "data": {
      "application/javascript": [
       "parent.postMessage({\"jupyterEvent\": \"custom.exercise_interaction\", \"data\": {\"outcomeType\": 1, \"valueTowardsCompletion\": 0.25, \"interactionType\": 1, \"questionType\": 4, \"questionId\": \"2_Q2\", \"learnToolsVersion\": \"0.3.4\", \"failureMessage\": \"\", \"exceptionClass\": \"\", \"trace\": \"\"}}, \"*\")"
      ],
      "text/plain": [
       "<IPython.core.display.Javascript object>"
      ]
     },
     "metadata": {},
     "output_type": "display_data"
    },
    {
     "data": {
      "text/markdown": [
       "<span style=\"color:#33cc33\">Correct:</span> \n",
       "\n",
       "Now the validation loss begins to rise very early, while the training loss continues to decrease. This indicates that the network has begun to overfit. At this point, we would need to try something to prevent it, either by reducing the number of units or through a method like early stopping. (We'll see another in the next lesson!)"
      ],
      "text/plain": [
       "Correct: \n",
       "\n",
       "Now the validation loss begins to rise very early, while the training loss continues to decrease. This indicates that the network has begun to overfit. At this point, we would need to try something to prevent it, either by reducing the number of units or through a method like early stopping. (We'll see another in the next lesson!)"
      ]
     },
     "metadata": {},
     "output_type": "display_data"
    }
   ],
   "source": [
    "# View the solution (Run this cell to receive credit!)\n",
    "q_2.check()"
   ]
  },
  {
   "cell_type": "markdown",
   "id": "8004857c",
   "metadata": {
    "papermill": {
     "duration": 0.015794,
     "end_time": "2025-01-14T18:52:16.020929",
     "exception": false,
     "start_time": "2025-01-14T18:52:16.005135",
     "status": "completed"
    },
    "tags": []
   },
   "source": [
    "# 3) Define Early Stopping Callback\n",
    "\n",
    "Now define an early stopping callback that waits 5 epochs (`patience'`) for a change in validation loss of at least `0.001` (`min_delta`) and keeps the weights with the best loss (`restore_best_weights`)."
   ]
  },
  {
   "cell_type": "code",
   "execution_count": 8,
   "id": "ad3c7c31",
   "metadata": {
    "execution": {
     "iopub.execute_input": "2025-01-14T18:52:16.054004Z",
     "iopub.status.busy": "2025-01-14T18:52:16.053751Z",
     "iopub.status.idle": "2025-01-14T18:52:16.060576Z",
     "shell.execute_reply": "2025-01-14T18:52:16.059762Z"
    },
    "lines_to_next_cell": 0,
    "papermill": {
     "duration": 0.025261,
     "end_time": "2025-01-14T18:52:16.062184",
     "exception": false,
     "start_time": "2025-01-14T18:52:16.036923",
     "status": "completed"
    },
    "tags": []
   },
   "outputs": [
    {
     "data": {
      "application/javascript": [
       "parent.postMessage({\"jupyterEvent\": \"custom.exercise_interaction\", \"data\": {\"outcomeType\": 1, \"valueTowardsCompletion\": 0.25, \"interactionType\": 1, \"questionType\": 2, \"questionId\": \"3_Q3\", \"learnToolsVersion\": \"0.3.4\", \"failureMessage\": \"\", \"exceptionClass\": \"\", \"trace\": \"\"}}, \"*\")"
      ],
      "text/plain": [
       "<IPython.core.display.Javascript object>"
      ]
     },
     "metadata": {},
     "output_type": "display_data"
    },
    {
     "data": {
      "text/markdown": [
       "<span style=\"color:#33cc33\">Correct</span>"
      ],
      "text/plain": [
       "Correct"
      ]
     },
     "metadata": {},
     "output_type": "display_data"
    }
   ],
   "source": [
    "from tensorflow.keras import callbacks\n",
    "\n",
    "# YOUR CODE HERE: define an early stopping callback\n",
    "early_stopping = callbacks.EarlyStopping(\n",
    "    patience=5,\n",
    "    min_delta=0.001,\n",
    "    restore_best_weights=True,\n",
    ")\n",
    "\n",
    "# Check your answer\n",
    "q_3.check()"
   ]
  },
  {
   "cell_type": "code",
   "execution_count": 9,
   "id": "e70d4311",
   "metadata": {
    "execution": {
     "iopub.execute_input": "2025-01-14T18:52:16.095236Z",
     "iopub.status.busy": "2025-01-14T18:52:16.095000Z",
     "iopub.status.idle": "2025-01-14T18:52:16.101051Z",
     "shell.execute_reply": "2025-01-14T18:52:16.100322Z"
    },
    "papermill": {
     "duration": 0.02454,
     "end_time": "2025-01-14T18:52:16.102663",
     "exception": false,
     "start_time": "2025-01-14T18:52:16.078123",
     "status": "completed"
    },
    "tags": []
   },
   "outputs": [
    {
     "data": {
      "application/javascript": [
       "parent.postMessage({\"jupyterEvent\": \"custom.exercise_interaction\", \"data\": {\"interactionType\": 2, \"questionType\": 2, \"questionId\": \"3_Q3\", \"learnToolsVersion\": \"0.3.4\", \"valueTowardsCompletion\": 0.0, \"failureMessage\": \"\", \"exceptionClass\": \"\", \"trace\": \"\", \"outcomeType\": 4}}, \"*\")"
      ],
      "text/plain": [
       "<IPython.core.display.Javascript object>"
      ]
     },
     "metadata": {},
     "output_type": "display_data"
    },
    {
     "data": {
      "text/markdown": [
       "<span style=\"color:#3366cc\">Hint:</span> \n",
       "Your solution should look something like:\n",
       "\n",
       "```python\n",
       "early_stopping = callbacks.EarlyStopping(\n",
       "    patience=____,\n",
       "    min_delta=____,\n",
       "    restore_best_weights=____,\n",
       ")\n",
       "```\n"
      ],
      "text/plain": [
       "Hint: \n",
       "Your solution should look something like:\n",
       "\n",
       "```python\n",
       "early_stopping = callbacks.EarlyStopping(\n",
       "    patience=____,\n",
       "    min_delta=____,\n",
       "    restore_best_weights=____,\n",
       ")\n",
       "```"
      ]
     },
     "metadata": {},
     "output_type": "display_data"
    }
   ],
   "source": [
    "# Lines below will give you a hint or solution code\n",
    "q_3.hint()\n",
    "#q_3.solution()"
   ]
  },
  {
   "cell_type": "markdown",
   "id": "1db91f1e",
   "metadata": {
    "papermill": {
     "duration": 0.01616,
     "end_time": "2025-01-14T18:52:16.135109",
     "exception": false,
     "start_time": "2025-01-14T18:52:16.118949",
     "status": "completed"
    },
    "tags": []
   },
   "source": [
    "Now run this cell to train the model and get the learning curves. Notice the `callbacks` argument in `model.fit`."
   ]
  },
  {
   "cell_type": "code",
   "execution_count": 10,
   "id": "7d8329c6",
   "metadata": {
    "execution": {
     "iopub.execute_input": "2025-01-14T18:52:16.168708Z",
     "iopub.status.busy": "2025-01-14T18:52:16.168418Z",
     "iopub.status.idle": "2025-01-14T18:52:19.682537Z",
     "shell.execute_reply": "2025-01-14T18:52:19.681631Z"
    },
    "papermill": {
     "duration": 3.532964,
     "end_time": "2025-01-14T18:52:19.684347",
     "exception": false,
     "start_time": "2025-01-14T18:52:16.151383",
     "status": "completed"
    },
    "tags": []
   },
   "outputs": [
    {
     "name": "stdout",
     "output_type": "stream",
     "text": [
      "Epoch 1/50\n",
      "50/50 [==============================] - 1s 6ms/step - loss: 0.2592 - val_loss: 0.2061\n",
      "Epoch 2/50\n",
      "50/50 [==============================] - 0s 4ms/step - loss: 0.2065 - val_loss: 0.1981\n",
      "Epoch 3/50\n",
      "50/50 [==============================] - 0s 3ms/step - loss: 0.2008 - val_loss: 0.1961\n",
      "Epoch 4/50\n",
      "50/50 [==============================] - 0s 3ms/step - loss: 0.1973 - val_loss: 0.1944\n",
      "Epoch 5/50\n",
      "50/50 [==============================] - 0s 3ms/step - loss: 0.1952 - val_loss: 0.1941\n",
      "Epoch 6/50\n",
      "50/50 [==============================] - 0s 3ms/step - loss: 0.1938 - val_loss: 0.1925\n",
      "Epoch 7/50\n",
      "50/50 [==============================] - 0s 3ms/step - loss: 0.1924 - val_loss: 0.1918\n",
      "Epoch 8/50\n",
      "50/50 [==============================] - 0s 3ms/step - loss: 0.1914 - val_loss: 0.1915\n",
      "Epoch 9/50\n",
      "50/50 [==============================] - 0s 3ms/step - loss: 0.1904 - val_loss: 0.1929\n",
      "Epoch 10/50\n",
      "50/50 [==============================] - 0s 4ms/step - loss: 0.1906 - val_loss: 0.1920\n",
      "Epoch 11/50\n",
      "50/50 [==============================] - 0s 4ms/step - loss: 0.1900 - val_loss: 0.1913\n",
      "Epoch 12/50\n",
      "50/50 [==============================] - 0s 4ms/step - loss: 0.1894 - val_loss: 0.1923\n",
      "Epoch 13/50\n",
      "50/50 [==============================] - 0s 4ms/step - loss: 0.1892 - val_loss: 0.1930\n",
      "Minimum Validation Loss: 0.1913\n"
     ]
    },
    {
     "data": {
      "image/png": "[encoded data removed]",
      "text/plain": [
       "<Figure size 640x480 with 1 Axes>"
      ]
     },
     "metadata": {},
     "output_type": "display_data"
    }
   ],
   "source": [
    "model = keras.Sequential([\n",
    "    layers.Dense(128, activation='relu', input_shape=input_shape),\n",
    "    layers.Dense(64, activation='relu'),    \n",
    "    layers.Dense(1)\n",
    "])\n",
    "model.compile(\n",
    "    optimizer='adam',\n",
    "    loss='mae',\n",
    ")\n",
    "history = model.fit(\n",
    "    X_train, y_train,\n",
    "    validation_data=(X_valid, y_valid),\n",
    "    batch_size=512,\n",
    "    epochs=50,\n",
    "    callbacks=[early_stopping]\n",
    ")\n",
    "history_df = pd.DataFrame(history.history)\n",
    "history_df.loc[:, ['loss', 'val_loss']].plot()\n",
    "print(\"Minimum Validation Loss: {:0.4f}\".format(history_df['val_loss'].min()));"
   ]
  },
  {
   "cell_type": "markdown",
   "id": "0c5d3e38",
   "metadata": {
    "papermill": {
     "duration": 0.019566,
     "end_time": "2025-01-14T18:52:19.723738",
     "exception": false,
     "start_time": "2025-01-14T18:52:19.704172",
     "status": "completed"
    },
    "tags": []
   },
   "source": [
    "# 4) Train and Interpret\n",
    "\n",
    "Was this an improvement compared to training without early stopping?"
   ]
  },
  {
   "cell_type": "code",
   "execution_count": 11,
   "id": "54a0db67",
   "metadata": {
    "execution": {
     "iopub.execute_input": "2025-01-14T18:52:19.764590Z",
     "iopub.status.busy": "2025-01-14T18:52:19.763967Z",
     "iopub.status.idle": "2025-01-14T18:52:19.771371Z",
     "shell.execute_reply": "2025-01-14T18:52:19.770515Z"
    },
    "papermill": {
     "duration": 0.029722,
     "end_time": "2025-01-14T18:52:19.772999",
     "exception": false,
     "start_time": "2025-01-14T18:52:19.743277",
     "status": "completed"
    },
    "tags": []
   },
   "outputs": [
    {
     "data": {
      "application/javascript": [
       "parent.postMessage({\"jupyterEvent\": \"custom.exercise_interaction\", \"data\": {\"outcomeType\": 1, \"valueTowardsCompletion\": 0.25, \"interactionType\": 1, \"questionType\": 4, \"questionId\": \"4_Q4\", \"learnToolsVersion\": \"0.3.4\", \"failureMessage\": \"\", \"exceptionClass\": \"\", \"trace\": \"\"}}, \"*\")"
      ],
      "text/plain": [
       "<IPython.core.display.Javascript object>"
      ]
     },
     "metadata": {},
     "output_type": "display_data"
    },
    {
     "data": {
      "text/markdown": [
       "<span style=\"color:#33cc33\">Correct:</span> \n",
       "\n",
       "The early stopping callback did stop the training once the network began overfitting. Moreover, by including `restore_best_weights` we still get to keep the model where validation loss was lowest."
      ],
      "text/plain": [
       "Correct: \n",
       "\n",
       "The early stopping callback did stop the training once the network began overfitting. Moreover, by including `restore_best_weights` we still get to keep the model where validation loss was lowest."
      ]
     },
     "metadata": {},
     "output_type": "display_data"
    }
   ],
   "source": [
    "# View the solution (Run this cell to receive credit!)\n",
    "q_4.check()"
   ]
  },
  {
   "cell_type": "markdown",
   "id": "3a43716a",
   "metadata": {
    "papermill": {
     "duration": 0.019557,
     "end_time": "2025-01-14T18:52:19.811874",
     "exception": false,
     "start_time": "2025-01-14T18:52:19.792317",
     "status": "completed"
    },
    "tags": []
   },
   "source": [
    "If you like, try experimenting with `patience` and `min_delta` to see what difference it might make.\n",
    "\n",
    "# Keep Going #\n",
    "\n",
    "Move on to [**learn about a couple of special layers**](https://www.kaggle.com/ryanholbrook/dropout-and-batch-normalization): batch normalization and dropout."
   ]
  },
  {
   "cell_type": "markdown",
   "id": "9ea4a55b",
   "metadata": {
    "papermill": {
     "duration": 0.019377,
     "end_time": "2025-01-14T18:52:19.851133",
     "exception": false,
     "start_time": "2025-01-14T18:52:19.831756",
     "status": "completed"
    },
    "tags": []
   },
   "source": [
    "---\n",
    "\n",
    "\n",
    "\n",
    "\n",
    "*Have questions or comments? Visit the [course discussion forum](https://www.kaggle.com/learn/intro-to-deep-learning/discussion) to chat with other learners.*"
   ]
  }
 ],
 "metadata": {
  "jupytext": {
   "cell_metadata_filter": "-all",
   "formats": "ipynb"
  },
  "kaggle": {
   "accelerator": "gpu",
   "dataSources": [
    {
     "datasetId": 829369,
     "sourceId": 1480608,
     "sourceType": "datasetVersion"
    }
   ],
   "dockerImageVersionId": 30648,
   "isGpuEnabled": true,
   "isInternetEnabled": false,
   "language": "python",
   "sourceType": "notebook"
  },
  "kernelspec": {
   "display_name": "Python 3",
   "language": "python",
   "name": "python3"
  },
  "language_info": {
   "codemirror_mode": {
    "name": "ipython",
    "version": 3
   },
   "file_extension": ".py",
   "mimetype": "text/x-python",
   "name": "python",
   "nbconvert_exporter": "python",
   "pygments_lexer": "ipython3",
   "version": "3.10.13"
  },
  "papermill": {
   "default_parameters": {},
   "duration": 41.087982,
   "end_time": "2025-01-14T18:52:22.318730",
   "environment_variables": {},
   "exception": null,
   "input_path": "__notebook__.ipynb",
   "output_path": "__notebook__.ipynb",
   "parameters": {},
   "start_time": "2025-01-14T18:51:41.230748",
   "version": "2.5.0"
  }
 },
 "nbformat": 4,
 "nbformat_minor": 5
}
