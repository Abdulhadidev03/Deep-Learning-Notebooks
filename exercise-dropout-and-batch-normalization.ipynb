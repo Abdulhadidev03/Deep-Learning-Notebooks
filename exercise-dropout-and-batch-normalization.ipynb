{
 "cells": [
  {
   "cell_type": "markdown",
   "id": "8e99e07c",
   "metadata": {
    "papermill": {
     "duration": 0.004272,
     "end_time": "2025-01-14T19:04:28.370213",
     "exception": false,
     "start_time": "2025-01-14T19:04:28.365941",
     "status": "completed"
    },
    "tags": []
   },
   "source": [
    "**This notebook is an exercise in the [Intro to Deep Learning](https://www.kaggle.com/learn/intro-to-deep-learning) course.  You can reference the tutorial at [this link](https://www.kaggle.com/ryanholbrook/dropout-and-batch-normalization).**\n",
    "\n",
    "---\n"
   ]
  },
  {
   "cell_type": "markdown",
   "id": "0a01a36a",
   "metadata": {
    "papermill": {
     "duration": 0.003525,
     "end_time": "2025-01-14T19:04:28.377468",
     "exception": false,
     "start_time": "2025-01-14T19:04:28.373943",
     "status": "completed"
    },
    "tags": []
   },
   "source": [
    "# Introduction #\n",
    "\n",
    "In this exercise, you'll add dropout to the *Spotify* model from Exercise 4 and see how batch normalization can let you successfully train models on difficult datasets.\n",
    "\n",
    "Run the next cell to get started!"
   ]
  },
  {
   "cell_type": "code",
   "execution_count": 1,
   "id": "1973f61f",
   "metadata": {
    "execution": {
     "iopub.execute_input": "2025-01-14T19:04:28.386169Z",
     "iopub.status.busy": "2025-01-14T19:04:28.385829Z",
     "iopub.status.idle": "2025-01-14T19:04:29.096013Z",
     "shell.execute_reply": "2025-01-14T19:04:29.095090Z"
    },
    "papermill": {
     "duration": 0.717103,
     "end_time": "2025-01-14T19:04:29.098105",
     "exception": false,
     "start_time": "2025-01-14T19:04:28.381002",
     "status": "completed"
    },
    "tags": []
   },
   "outputs": [
    {
     "name": "stderr",
     "output_type": "stream",
     "text": [
      "/tmp/ipykernel_26/195640296.py:3: MatplotlibDeprecationWarning: The seaborn styles shipped by Matplotlib are deprecated since 3.6, as they no longer correspond to the styles shipped by seaborn. However, they will remain available as 'seaborn-v0_8-<style>'. Alternatively, directly use the seaborn API instead.\n",
      "  plt.style.use('seaborn-whitegrid')\n"
     ]
    }
   ],
   "source": [
    "# Setup plotting\n",
    "import matplotlib.pyplot as plt\n",
    "plt.style.use('seaborn-whitegrid')\n",
    "# Set Matplotlib defaults\n",
    "plt.rc('figure', autolayout=True)\n",
    "plt.rc('axes', labelweight='bold', labelsize='large',\n",
    "       titleweight='bold', titlesize=18, titlepad=10)\n",
    "plt.rc('animation', html='html5')\n",
    "\n",
    "# Setup feedback system\n",
    "from learntools.core import binder\n",
    "binder.bind(globals())\n",
    "from learntools.deep_learning_intro.ex5 import *"
   ]
  },
  {
   "cell_type": "markdown",
   "id": "31518501",
   "metadata": {
    "papermill": {
     "duration": 0.003558,
     "end_time": "2025-01-14T19:04:29.105573",
     "exception": false,
     "start_time": "2025-01-14T19:04:29.102015",
     "status": "completed"
    },
    "tags": []
   },
   "source": [
    "First load the *Spotify* dataset."
   ]
  },
  {
   "cell_type": "code",
   "execution_count": 2,
   "id": "2ff432b7",
   "metadata": {
    "execution": {
     "iopub.execute_input": "2025-01-14T19:04:29.113955Z",
     "iopub.status.busy": "2025-01-14T19:04:29.113612Z",
     "iopub.status.idle": "2025-01-14T19:04:42.171659Z",
     "shell.execute_reply": "2025-01-14T19:04:42.170553Z"
    },
    "papermill": {
     "duration": 13.064411,
     "end_time": "2025-01-14T19:04:42.173590",
     "exception": false,
     "start_time": "2025-01-14T19:04:29.109179",
     "status": "completed"
    },
    "tags": []
   },
   "outputs": [
    {
     "name": "stderr",
     "output_type": "stream",
     "text": [
      "2025-01-14 19:04:31.913731: E external/local_xla/xla/stream_executor/cuda/cuda_dnn.cc:9261] Unable to register cuDNN factory: Attempting to register factory for plugin cuDNN when one has already been registered\n",
      "2025-01-14 19:04:31.913891: E external/local_xla/xla/stream_executor/cuda/cuda_fft.cc:607] Unable to register cuFFT factory: Attempting to register factory for plugin cuFFT when one has already been registered\n",
      "2025-01-14 19:04:32.049790: E external/local_xla/xla/stream_executor/cuda/cuda_blas.cc:1515] Unable to register cuBLAS factory: Attempting to register factory for plugin cuBLAS when one has already been registered\n"
     ]
    },
    {
     "name": "stdout",
     "output_type": "stream",
     "text": [
      "Input shape: [18]\n"
     ]
    }
   ],
   "source": [
    "import pandas as pd\n",
    "from sklearn.preprocessing import StandardScaler, OneHotEncoder\n",
    "from sklearn.compose import make_column_transformer\n",
    "from sklearn.model_selection import GroupShuffleSplit\n",
    "\n",
    "from tensorflow import keras\n",
    "from tensorflow.keras import layers\n",
    "from tensorflow.keras import callbacks\n",
    "\n",
    "spotify = pd.read_csv('../input/dl-course-data/spotify.csv')\n",
    "\n",
    "X = spotify.copy().dropna()\n",
    "y = X.pop('track_popularity')\n",
    "artists = X['track_artist']\n",
    "\n",
    "features_num = ['danceability', 'energy', 'key', 'loudness', 'mode',\n",
    "                'speechiness', 'acousticness', 'instrumentalness',\n",
    "                'liveness', 'valence', 'tempo', 'duration_ms']\n",
    "features_cat = ['playlist_genre']\n",
    "\n",
    "preprocessor = make_column_transformer(\n",
    "    (StandardScaler(), features_num),\n",
    "    (OneHotEncoder(), features_cat),\n",
    ")\n",
    "\n",
    "def group_split(X, y, group, train_size=0.75):\n",
    "    splitter = GroupShuffleSplit(train_size=train_size)\n",
    "    train, test = next(splitter.split(X, y, groups=group))\n",
    "    return (X.iloc[train], X.iloc[test], y.iloc[train], y.iloc[test])\n",
    "\n",
    "X_train, X_valid, y_train, y_valid = group_split(X, y, artists)\n",
    "\n",
    "X_train = preprocessor.fit_transform(X_train)\n",
    "X_valid = preprocessor.transform(X_valid)\n",
    "y_train = y_train / 100\n",
    "y_valid = y_valid / 100\n",
    "\n",
    "input_shape = [X_train.shape[1]]\n",
    "print(\"Input shape: {}\".format(input_shape))"
   ]
  },
  {
   "cell_type": "markdown",
   "id": "0570269f",
   "metadata": {
    "papermill": {
     "duration": 0.003721,
     "end_time": "2025-01-14T19:04:42.181397",
     "exception": false,
     "start_time": "2025-01-14T19:04:42.177676",
     "status": "completed"
    },
    "tags": []
   },
   "source": [
    "# 1) Add Dropout to Spotify Model\n",
    "\n",
    "Here is the last model from Exercise 4. Add two dropout layers, one after the `Dense` layer with 128 units, and one after the `Dense` layer with 64 units. Set the dropout rate on both to `0.3`."
   ]
  },
  {
   "cell_type": "code",
   "execution_count": 3,
   "id": "ffd60fbd",
   "metadata": {
    "execution": {
     "iopub.execute_input": "2025-01-14T19:04:42.190431Z",
     "iopub.status.busy": "2025-01-14T19:04:42.189749Z",
     "iopub.status.idle": "2025-01-14T19:04:43.039925Z",
     "shell.execute_reply": "2025-01-14T19:04:43.039111Z"
    },
    "lines_to_next_cell": 2,
    "papermill": {
     "duration": 0.865055,
     "end_time": "2025-01-14T19:04:43.050053",
     "exception": false,
     "start_time": "2025-01-14T19:04:42.184998",
     "status": "completed"
    },
    "tags": []
   },
   "outputs": [
    {
     "data": {
      "application/javascript": [
       "parent.postMessage({\"jupyterEvent\": \"custom.exercise_interaction\", \"data\": {\"outcomeType\": 1, \"valueTowardsCompletion\": 0.25, \"interactionType\": 1, \"questionType\": 2, \"questionId\": \"1_Q1\", \"learnToolsVersion\": \"0.3.4\", \"failureMessage\": \"\", \"exceptionClass\": \"\", \"trace\": \"\"}}, \"*\")"
      ],
      "text/plain": [
       "<IPython.core.display.Javascript object>"
      ]
     },
     "metadata": {},
     "output_type": "display_data"
    },
    {
     "data": {
      "text/markdown": [
       "<span style=\"color:#33cc33\">Correct</span>"
      ],
      "text/plain": [
       "Correct"
      ]
     },
     "metadata": {},
     "output_type": "display_data"
    }
   ],
   "source": [
    "# YOUR CODE HERE: Add two 30% dropout layers, one after 128 and one after 64\n",
    "model = keras.Sequential([\n",
    "    layers.Dense(128, activation='relu', input_shape=input_shape),\n",
    "    layers.Dropout(0.3),\n",
    "    layers.Dense(64, activation='relu'),\n",
    "    layers.Dropout(0.3),\n",
    "    layers.Dense(1)\n",
    "])\n",
    "\n",
    "# Check your answer\n",
    "q_1.check()"
   ]
  },
  {
   "cell_type": "code",
   "execution_count": 4,
   "id": "5c320db0",
   "metadata": {
    "execution": {
     "iopub.execute_input": "2025-01-14T19:04:43.062088Z",
     "iopub.status.busy": "2025-01-14T19:04:43.061766Z",
     "iopub.status.idle": "2025-01-14T19:04:43.065783Z",
     "shell.execute_reply": "2025-01-14T19:04:43.064764Z"
    },
    "papermill": {
     "duration": 0.01167,
     "end_time": "2025-01-14T19:04:43.067808",
     "exception": false,
     "start_time": "2025-01-14T19:04:43.056138",
     "status": "completed"
    },
    "tags": []
   },
   "outputs": [],
   "source": [
    "# Lines below will give you a hint or solution code\n",
    "#q_1.hint()\n",
    "#q_1.solution()"
   ]
  },
  {
   "cell_type": "markdown",
   "id": "9e9f26ae",
   "metadata": {
    "papermill": {
     "duration": 0.003787,
     "end_time": "2025-01-14T19:04:43.075896",
     "exception": false,
     "start_time": "2025-01-14T19:04:43.072109",
     "status": "completed"
    },
    "tags": []
   },
   "source": [
    "Now run this next cell to train the model see the effect of adding dropout."
   ]
  },
  {
   "cell_type": "code",
   "execution_count": 5,
   "id": "8860cd33",
   "metadata": {
    "execution": {
     "iopub.execute_input": "2025-01-14T19:04:43.085929Z",
     "iopub.status.busy": "2025-01-14T19:04:43.085679Z",
     "iopub.status.idle": "2025-01-14T19:04:53.893236Z",
     "shell.execute_reply": "2025-01-14T19:04:53.892477Z"
    },
    "papermill": {
     "duration": 10.81505,
     "end_time": "2025-01-14T19:04:53.895022",
     "exception": false,
     "start_time": "2025-01-14T19:04:43.079972",
     "status": "completed"
    },
    "tags": []
   },
   "outputs": [
    {
     "name": "stderr",
     "output_type": "stream",
     "text": [
      "WARNING: All log messages before absl::InitializeLog() is called are written to STDERR\n",
      "I0000 00:00:1736881485.461427      67 device_compiler.h:186] Compiled cluster using XLA!  This line is logged at most once for the lifetime of the process.\n"
     ]
    },
    {
     "name": "stdout",
     "output_type": "stream",
     "text": [
      "Minimum Validation Loss: 0.1951\n"
     ]
    },
    {
     "data": {
      "image/png": "[encoded data removed]",
      "text/plain": [
       "<Figure size 640x480 with 1 Axes>"
      ]
     },
     "metadata": {},
     "output_type": "display_data"
    }
   ],
   "source": [
    "model.compile(\n",
    "    optimizer='adam',\n",
    "    loss='mae',\n",
    ")\n",
    "history = model.fit(\n",
    "    X_train, y_train,\n",
    "    validation_data=(X_valid, y_valid),\n",
    "    batch_size=512,\n",
    "    epochs=50,\n",
    "    verbose=0,\n",
    ")\n",
    "history_df = pd.DataFrame(history.history)\n",
    "history_df.loc[:, ['loss', 'val_loss']].plot()\n",
    "print(\"Minimum Validation Loss: {:0.4f}\".format(history_df['val_loss'].min()))"
   ]
  },
  {
   "cell_type": "markdown",
   "id": "625daf6c",
   "metadata": {
    "papermill": {
     "duration": 0.004261,
     "end_time": "2025-01-14T19:04:53.903950",
     "exception": false,
     "start_time": "2025-01-14T19:04:53.899689",
     "status": "completed"
    },
    "tags": []
   },
   "source": [
    "# 2) Evaluate Dropout\n",
    "\n",
    "Recall from Exercise 4 that this model tended to overfit the data around epoch 5. Did adding dropout seem to help prevent overfitting this time?"
   ]
  },
  {
   "cell_type": "code",
   "execution_count": 6,
   "id": "3d98b10e",
   "metadata": {
    "execution": {
     "iopub.execute_input": "2025-01-14T19:04:53.914232Z",
     "iopub.status.busy": "2025-01-14T19:04:53.913579Z",
     "iopub.status.idle": "2025-01-14T19:04:53.920027Z",
     "shell.execute_reply": "2025-01-14T19:04:53.919240Z"
    },
    "papermill": {
     "duration": 0.013416,
     "end_time": "2025-01-14T19:04:53.921741",
     "exception": false,
     "start_time": "2025-01-14T19:04:53.908325",
     "status": "completed"
    },
    "tags": []
   },
   "outputs": [
    {
     "data": {
      "application/javascript": [
       "parent.postMessage({\"jupyterEvent\": \"custom.exercise_interaction\", \"data\": {\"outcomeType\": 1, \"valueTowardsCompletion\": 0.25, \"interactionType\": 1, \"questionType\": 4, \"questionId\": \"2_Q2\", \"learnToolsVersion\": \"0.3.4\", \"failureMessage\": \"\", \"exceptionClass\": \"\", \"trace\": \"\"}}, \"*\")"
      ],
      "text/plain": [
       "<IPython.core.display.Javascript object>"
      ]
     },
     "metadata": {},
     "output_type": "display_data"
    },
    {
     "data": {
      "text/markdown": [
       "<span style=\"color:#33cc33\">Correct:</span> \n",
       "\n",
       "\n",
       "From the learning curves, you can see that the validation loss remains near a constant minimum even though the training loss continues to decrease. So we can see that adding dropout did prevent overfitting this time. Moreover, by making it harder for the network to fit spurious patterns, dropout may have encouraged the network to seek out more of the true patterns, possibly improving the validation loss some as well).\n"
      ],
      "text/plain": [
       "Correct: \n",
       "\n",
       "\n",
       "From the learning curves, you can see that the validation loss remains near a constant minimum even though the training loss continues to decrease. So we can see that adding dropout did prevent overfitting this time. Moreover, by making it harder for the network to fit spurious patterns, dropout may have encouraged the network to seek out more of the true patterns, possibly improving the validation loss some as well)."
      ]
     },
     "metadata": {},
     "output_type": "display_data"
    }
   ],
   "source": [
    "# View the solution (Run this cell to receive credit!)\n",
    "q_2.check()"
   ]
  },
  {
   "cell_type": "markdown",
   "id": "d39a4d97",
   "metadata": {
    "papermill": {
     "duration": 0.004344,
     "end_time": "2025-01-14T19:04:53.930621",
     "exception": false,
     "start_time": "2025-01-14T19:04:53.926277",
     "status": "completed"
    },
    "tags": []
   },
   "source": [
    "Now, we'll switch topics to explore how batch normalization can fix problems in training.\n",
    "\n",
    "Load the *Concrete* dataset. We won't do any standardization this time. This will make the effect of batch normalization much more apparent."
   ]
  },
  {
   "cell_type": "code",
   "execution_count": 7,
   "id": "1b0e685d",
   "metadata": {
    "execution": {
     "iopub.execute_input": "2025-01-14T19:04:53.940799Z",
     "iopub.status.busy": "2025-01-14T19:04:53.940564Z",
     "iopub.status.idle": "2025-01-14T19:04:53.958026Z",
     "shell.execute_reply": "2025-01-14T19:04:53.957414Z"
    },
    "papermill": {
     "duration": 0.024436,
     "end_time": "2025-01-14T19:04:53.959676",
     "exception": false,
     "start_time": "2025-01-14T19:04:53.935240",
     "status": "completed"
    },
    "tags": []
   },
   "outputs": [],
   "source": [
    "import pandas as pd\n",
    "\n",
    "concrete = pd.read_csv('../input/dl-course-data/concrete.csv')\n",
    "df = concrete.copy()\n",
    "\n",
    "df_train = df.sample(frac=0.7, random_state=0)\n",
    "df_valid = df.drop(df_train.index)\n",
    "\n",
    "X_train = df_train.drop('CompressiveStrength', axis=1)\n",
    "X_valid = df_valid.drop('CompressiveStrength', axis=1)\n",
    "y_train = df_train['CompressiveStrength']\n",
    "y_valid = df_valid['CompressiveStrength']\n",
    "\n",
    "input_shape = [X_train.shape[1]]"
   ]
  },
  {
   "cell_type": "markdown",
   "id": "9e98d056",
   "metadata": {
    "papermill": {
     "duration": 0.004389,
     "end_time": "2025-01-14T19:04:53.968684",
     "exception": false,
     "start_time": "2025-01-14T19:04:53.964295",
     "status": "completed"
    },
    "tags": []
   },
   "source": [
    "Run the following cell to train the network on the unstandardized *Concrete* data."
   ]
  },
  {
   "cell_type": "code",
   "execution_count": 8,
   "id": "9edd788a",
   "metadata": {
    "execution": {
     "iopub.execute_input": "2025-01-14T19:04:53.978929Z",
     "iopub.status.busy": "2025-01-14T19:04:53.978677Z",
     "iopub.status.idle": "2025-01-14T19:05:00.876249Z",
     "shell.execute_reply": "2025-01-14T19:05:00.875337Z"
    },
    "papermill": {
     "duration": 6.90469,
     "end_time": "2025-01-14T19:05:00.877997",
     "exception": false,
     "start_time": "2025-01-14T19:04:53.973307",
     "status": "completed"
    },
    "tags": []
   },
   "outputs": [
    {
     "name": "stdout",
     "output_type": "stream",
     "text": [
      "Minimum Validation Loss: nan\n"
     ]
    },
    {
     "data": {
      "image/png": "[encoded data removed]",
      "text/plain": [
       "<Figure size 640x480 with 1 Axes>"
      ]
     },
     "metadata": {},
     "output_type": "display_data"
    }
   ],
   "source": [
    "model = keras.Sequential([\n",
    "    layers.Dense(512, activation='relu', input_shape=input_shape),\n",
    "    layers.Dense(512, activation='relu'),    \n",
    "    layers.Dense(512, activation='relu'),\n",
    "    layers.Dense(1),\n",
    "])\n",
    "model.compile(\n",
    "    optimizer='sgd', # SGD is more sensitive to differences of scale\n",
    "    loss='mae',\n",
    "    metrics=['mae'],\n",
    ")\n",
    "history = model.fit(\n",
    "    X_train, y_train,\n",
    "    validation_data=(X_valid, y_valid),\n",
    "    batch_size=64,\n",
    "    epochs=100,\n",
    "    verbose=0,\n",
    ")\n",
    "\n",
    "history_df = pd.DataFrame(history.history)\n",
    "history_df.loc[0:, ['loss', 'val_loss']].plot()\n",
    "print((\"Minimum Validation Loss: {:0.4f}\").format(history_df['val_loss'].min()))"
   ]
  },
  {
   "cell_type": "markdown",
   "id": "cbb690ed",
   "metadata": {
    "papermill": {
     "duration": 0.004895,
     "end_time": "2025-01-14T19:05:00.887964",
     "exception": false,
     "start_time": "2025-01-14T19:05:00.883069",
     "status": "completed"
    },
    "tags": []
   },
   "source": [
    "Did you end up with a blank graph? Trying to train this network on this dataset will usually fail. Even when it does converge (due to a lucky weight initialization), it tends to converge to a very large number.\n",
    "\n",
    "# 3) Add Batch Normalization Layers\n",
    "\n",
    "Batch normalization can help correct problems like this.\n",
    "\n",
    "Add four `BatchNormalization` layers, one before each of the dense layers. (Remember to move the `input_shape` argument to the new first layer.)"
   ]
  },
  {
   "cell_type": "code",
   "execution_count": 9,
   "id": "c9923b26",
   "metadata": {
    "execution": {
     "iopub.execute_input": "2025-01-14T19:05:00.899156Z",
     "iopub.status.busy": "2025-01-14T19:05:00.898829Z",
     "iopub.status.idle": "2025-01-14T19:05:00.918989Z",
     "shell.execute_reply": "2025-01-14T19:05:00.918181Z"
    },
    "lines_to_next_cell": 0,
    "papermill": {
     "duration": 0.027816,
     "end_time": "2025-01-14T19:05:00.920767",
     "exception": false,
     "start_time": "2025-01-14T19:05:00.892951",
     "status": "completed"
    },
    "tags": []
   },
   "outputs": [
    {
     "data": {
      "application/javascript": [
       "parent.postMessage({\"jupyterEvent\": \"custom.exercise_interaction\", \"data\": {\"outcomeType\": 1, \"valueTowardsCompletion\": 0.25, \"interactionType\": 1, \"questionType\": 2, \"questionId\": \"3_Q3\", \"learnToolsVersion\": \"0.3.4\", \"failureMessage\": \"\", \"exceptionClass\": \"\", \"trace\": \"\"}}, \"*\")"
      ],
      "text/plain": [
       "<IPython.core.display.Javascript object>"
      ]
     },
     "metadata": {},
     "output_type": "display_data"
    },
    {
     "data": {
      "text/markdown": [
       "<span style=\"color:#33cc33\">Correct</span>"
      ],
      "text/plain": [
       "Correct"
      ]
     },
     "metadata": {},
     "output_type": "display_data"
    }
   ],
   "source": [
    "# YOUR CODE HERE: Add a BatchNormalization layer before each Dense layer\n",
    "model = keras.Sequential([\n",
    "    layers.BatchNormalization(),\n",
    "    layers.Dense(512, activation='relu', input_shape=input_shape),\n",
    "    layers.BatchNormalization(),\n",
    "    layers.Dense(512, activation='relu'),\n",
    "    layers.BatchNormalization(),\n",
    "    layers.Dense(512, activation='relu'),\n",
    "    layers.BatchNormalization(),\n",
    "    layers.Dense(1),\n",
    "])\n",
    "\n",
    "# Check your answer\n",
    "q_3.check()"
   ]
  },
  {
   "cell_type": "code",
   "execution_count": 10,
   "id": "efd5ebfd",
   "metadata": {
    "execution": {
     "iopub.execute_input": "2025-01-14T19:05:00.931974Z",
     "iopub.status.busy": "2025-01-14T19:05:00.931720Z",
     "iopub.status.idle": "2025-01-14T19:05:00.935251Z",
     "shell.execute_reply": "2025-01-14T19:05:00.934349Z"
    },
    "papermill": {
     "duration": 0.010877,
     "end_time": "2025-01-14T19:05:00.936806",
     "exception": false,
     "start_time": "2025-01-14T19:05:00.925929",
     "status": "completed"
    },
    "tags": []
   },
   "outputs": [],
   "source": [
    "# Lines below will give you a hint or solution code\n",
    "#q_3.hint()\n",
    "#q_3.solution()"
   ]
  },
  {
   "cell_type": "markdown",
   "id": "b3c29cbe",
   "metadata": {
    "papermill": {
     "duration": 0.004818,
     "end_time": "2025-01-14T19:05:00.946630",
     "exception": false,
     "start_time": "2025-01-14T19:05:00.941812",
     "status": "completed"
    },
    "tags": []
   },
   "source": [
    "Run the next cell to see if batch normalization will let us train the model."
   ]
  },
  {
   "cell_type": "code",
   "execution_count": 11,
   "id": "f1a7a07d",
   "metadata": {
    "execution": {
     "iopub.execute_input": "2025-01-14T19:05:00.957851Z",
     "iopub.status.busy": "2025-01-14T19:05:00.957592Z",
     "iopub.status.idle": "2025-01-14T19:05:11.779390Z",
     "shell.execute_reply": "2025-01-14T19:05:11.778489Z"
    },
    "papermill": {
     "duration": 10.829386,
     "end_time": "2025-01-14T19:05:11.781056",
     "exception": false,
     "start_time": "2025-01-14T19:05:00.951670",
     "status": "completed"
    },
    "tags": []
   },
   "outputs": [
    {
     "name": "stdout",
     "output_type": "stream",
     "text": [
      "Minimum Validation Loss: 3.8144\n"
     ]
    },
    {
     "data": {
      "image/png": "[encoded data removed]",
      "text/plain": [
       "<Figure size 640x480 with 1 Axes>"
      ]
     },
     "metadata": {},
     "output_type": "display_data"
    }
   ],
   "source": [
    "model.compile(\n",
    "    optimizer='sgd',\n",
    "    loss='mae',\n",
    "    metrics=['mae'],\n",
    ")\n",
    "EPOCHS = 100\n",
    "history = model.fit(\n",
    "    X_train, y_train,\n",
    "    validation_data=(X_valid, y_valid),\n",
    "    batch_size=64,\n",
    "    epochs=EPOCHS,\n",
    "    verbose=0,\n",
    ")\n",
    "\n",
    "history_df = pd.DataFrame(history.history)\n",
    "history_df.loc[0:, ['loss', 'val_loss']].plot()\n",
    "print((\"Minimum Validation Loss: {:0.4f}\").format(history_df['val_loss'].min()))"
   ]
  },
  {
   "cell_type": "markdown",
   "id": "f617179d",
   "metadata": {
    "papermill": {
     "duration": 0.005623,
     "end_time": "2025-01-14T19:05:11.792512",
     "exception": false,
     "start_time": "2025-01-14T19:05:11.786889",
     "status": "completed"
    },
    "tags": []
   },
   "source": [
    "# 4) Evaluate Batch Normalization\n",
    "\n",
    "Did adding batch normalization help?"
   ]
  },
  {
   "cell_type": "code",
   "execution_count": 12,
   "id": "2283579a",
   "metadata": {
    "execution": {
     "iopub.execute_input": "2025-01-14T19:05:11.805157Z",
     "iopub.status.busy": "2025-01-14T19:05:11.804385Z",
     "iopub.status.idle": "2025-01-14T19:05:11.810877Z",
     "shell.execute_reply": "2025-01-14T19:05:11.810081Z"
    },
    "lines_to_next_cell": 0,
    "papermill": {
     "duration": 0.014441,
     "end_time": "2025-01-14T19:05:11.812428",
     "exception": false,
     "start_time": "2025-01-14T19:05:11.797987",
     "status": "completed"
    },
    "tags": []
   },
   "outputs": [
    {
     "data": {
      "application/javascript": [
       "parent.postMessage({\"jupyterEvent\": \"custom.exercise_interaction\", \"data\": {\"outcomeType\": 1, \"valueTowardsCompletion\": 0.25, \"interactionType\": 1, \"questionType\": 4, \"questionId\": \"4_Q4\", \"learnToolsVersion\": \"0.3.4\", \"failureMessage\": \"\", \"exceptionClass\": \"\", \"trace\": \"\"}}, \"*\")"
      ],
      "text/plain": [
       "<IPython.core.display.Javascript object>"
      ]
     },
     "metadata": {},
     "output_type": "display_data"
    },
    {
     "data": {
      "text/markdown": [
       "<span style=\"color:#33cc33\">Correct:</span> \n",
       "\n",
       "\n",
       "You can see that adding batch normalization was a big improvement on the first attempt! By adaptively scaling the data as it passes through the network, batch normalization can let you train models on difficult datasets.\n"
      ],
      "text/plain": [
       "Correct: \n",
       "\n",
       "\n",
       "You can see that adding batch normalization was a big improvement on the first attempt! By adaptively scaling the data as it passes through the network, batch normalization can let you train models on difficult datasets."
      ]
     },
     "metadata": {},
     "output_type": "display_data"
    }
   ],
   "source": [
    "# View the solution (Run this cell to receive credit!)\n",
    "q_4.check()"
   ]
  },
  {
   "cell_type": "markdown",
   "id": "89a6931d",
   "metadata": {
    "papermill": {
     "duration": 0.005447,
     "end_time": "2025-01-14T19:05:11.823581",
     "exception": false,
     "start_time": "2025-01-14T19:05:11.818134",
     "status": "completed"
    },
    "tags": []
   },
   "source": [
    "# Keep Going #\n",
    "\n",
    "[**Create neural networks**](https://www.kaggle.com/ryanholbrook/binary-classification) for binary classification."
   ]
  },
  {
   "cell_type": "markdown",
   "id": "398da0cc",
   "metadata": {
    "papermill": {
     "duration": 0.005368,
     "end_time": "2025-01-14T19:05:11.834472",
     "exception": false,
     "start_time": "2025-01-14T19:05:11.829104",
     "status": "completed"
    },
    "tags": []
   },
   "source": [
    "---\n",
    "\n",
    "\n",
    "\n",
    "\n",
    "*Have questions or comments? Visit the [course discussion forum](https://www.kaggle.com/learn/intro-to-deep-learning/discussion) to chat with other learners.*"
   ]
  }
 ],
 "metadata": {
  "jupytext": {
   "cell_metadata_filter": "-all",
   "formats": "ipynb"
  },
  "kaggle": {
   "accelerator": "gpu",
   "dataSources": [
    {
     "datasetId": 829369,
     "sourceId": 1480608,
     "sourceType": "datasetVersion"
    }
   ],
   "dockerImageVersionId": 30648,
   "isGpuEnabled": true,
   "isInternetEnabled": false,
   "language": "python",
   "sourceType": "notebook"
  },
  "kernelspec": {
   "display_name": "Python 3",
   "language": "python",
   "name": "python3"
  },
  "language_info": {
   "codemirror_mode": {
    "name": "ipython",
    "version": 3
   },
   "file_extension": ".py",
   "mimetype": "text/x-python",
   "name": "python",
   "nbconvert_exporter": "python",
   "pygments_lexer": "ipython3",
   "version": "3.10.13"
  },
  "papermill": {
   "default_parameters": {},
   "duration": 48.090537,
   "end_time": "2025-01-14T19:05:13.964817",
   "environment_variables": {},
   "exception": null,
   "input_path": "__notebook__.ipynb",
   "output_path": "__notebook__.ipynb",
   "parameters": {},
   "start_time": "2025-01-14T19:04:25.874280",
   "version": "2.5.0"
  }
 },
 "nbformat": 4,
 "nbformat_minor": 5
}
